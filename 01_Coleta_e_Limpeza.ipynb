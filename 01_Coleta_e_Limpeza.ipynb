{
  "nbformat": 4,
  "nbformat_minor": 0,
  "metadata": {
    "colab": {
      "provenance": [],
      "authorship_tag": "ABX9TyPy0krr+utzAs20Ewh/hE36",
      "include_colab_link": true
    },
    "kernelspec": {
      "name": "python3",
      "display_name": "Python 3"
    },
    "language_info": {
      "name": "python"
    }
  },
  "cells": [
    {
      "cell_type": "markdown",
      "metadata": {
        "id": "view-in-github",
        "colab_type": "text"
      },
      "source": [
        "<a href=\"https://colab.research.google.com/github/marcelofschiavo/ds-cookbook/blob/main/01_Coleta_e_Limpeza.ipynb\" target=\"_parent\"><img src=\"https://colab.research.google.com/assets/colab-badge.svg\" alt=\"Open In Colab\"/></a>"
      ]
    },
    {
      "cell_type": "markdown",
      "source": [
        "# 01. Coleta e Limpeza de Dados (SQL & Pandas)\n",
        "\n",
        "**Objetivo:** Nenhum modelo de Machine Learning pode gerar valor a partir de dados ruins (\"Garbage In, Garbage Out\").\n",
        "Aqui estão as \"receitas\" fundamentais para buscar, carregar, inspecionar e limpar dados brutos do mundo real, usando as duas ferramentas essenciais: SQL (para bancos de dados) e Pandas (para manipulação em Python)."
      ],
      "metadata": {
        "id": "yi4Yi8Dt-L4R"
      }
    },
    {
      "cell_type": "markdown",
      "source": [
        "## 1. SQL  \n",
        "\n",
        "### Receita 1.1: `SELECT`, `FROM`, `WHERE`\n",
        "\n",
        "* **🧠 Intuição:** É o básico do pedido. \"Ei, banco de dados (`FROM vendas`), me traga (`SELECT`) a lista de `produto` e `quantidade` vendida, mas *apenas* (`WHERE`) da categoria `Eletrônicos`.\"\n",
        "* **🎓 Definição Técnica:** `SELECT` define as colunas (projeção) a serem retornadas. `FROM` especifica a tabela fonte dos dados. `WHERE` aplica um filtro nas linhas (seleção) com base em uma condição lógica.\n",
        "* **🍳 Receita:**\n",
        "    ```sql\n",
        "    SELECT\n",
        "        produto,\n",
        "        quantidade\n",
        "    FROM\n",
        "        vendas\n",
        "    WHERE\n",
        "        categoria = 'Eletrônicos';\n",
        "    ```\n",
        "* **📊 Resultado:** Uma tabela contendo apenas os produtos e quantidades da categoria 'Eletrônicos'. As outras categorias e colunas são omitidas.\n",
        "    ```\n",
        "    | produto | quantidade |\n",
        "    | :------ | :--------- |\n",
        "    | Laptop  | 1          |\n",
        "    | Teclado | 2          |\n",
        "    | Monitor | 1          |\n",
        "    | Mouse   | 3          |\n",
        "    ```"
      ],
      "metadata": {
        "id": "--4_pxXy-WDq"
      }
    },
    {
      "cell_type": "markdown",
      "source": [
        "### Receita 1.2: `GROUP BY`\n",
        "\n",
        "* **🧠 Intuição:** \"Agora, quero saber o *total* vendido de cada categoria. Primeiro, faça 'montinhos' (`GROUP BY`) por `categoria`. Depois, some (`SUM`) a `quantidade` de cada montinho.\"\n",
        "* **🎓 Definição Técnica:** Agrupa linhas que compartilham o mesmo valor na coluna especificada (`categoria`). É usado em conjunto com funções de agregação (`SUM`, `AVG`, `COUNT`, `MIN`, `MAX`) que operam sobre cada grupo formado. O `AS` renomeia a coluna resultante.\n",
        "* **🍳 Receita:**\n",
        "    ```sql\n",
        "    SELECT\n",
        "        categoria,\n",
        "        SUM(quantidade) AS total_vendido,\n",
        "        AVG(preco_unitario) AS preco_medio\n",
        "    FROM\n",
        "        vendas\n",
        "    GROUP BY\n",
        "        categoria;\n",
        "    ```\n",
        "* **📊 Resultado:** Uma tabela resumida, mostrando o total de itens vendidos e o preço unitário médio para cada categoria. Note que a linha da 'Mesa' (quantidade NULL) pode ser ignorada pelo `SUM` dependendo da configuração do banco.\n",
        "    ```\n",
        "    | categoria   | total_vendido | preco_medio |\n",
        "    | :---------- | :------------ | :---------- |\n",
        "    | Eletrônicos | 7             | 1232.50     |\n",
        "    | Casa        | 10            | 25.00       |\n",
        "    | Móveis      | 1             | 700.00      |\n",
        "    ```\n",
        "    *(O preco_medio de Móveis pode variar se o NULL for incluído ou não no AVG)*"
      ],
      "metadata": {
        "id": "pfWSkR-AAB8J"
      }
    },
    {
      "cell_type": "markdown",
      "source": [
        "### Receita 1.3: `JOIN`\n",
        "\n",
        "* **🧠 Intuição:** \"Eu tenho a lista de vendas (com `id_cliente`) e a lista de clientes (com `id_cliente` e `nome_cliente`). Quero 'colar' as duas usando o `id_cliente` para saber *quem* comprou *o quê*.\"\n",
        "* **🎓 Definição Técnica:** Combina linhas de duas ou mais tabelas (`vendas` e `clientes`) com base em uma coluna relacionada (`id_cliente`). `INNER JOIN` retorna apenas as linhas onde a chave existe em *ambas* as tabelas. A cláusula `ON` especifica a condição de junção (igualdade entre a Chave Estrangeira `v.id_cliente` e a Chave Primária `c.id_cliente`). `v` e `c` são apelidos (aliases) para as tabelas.\n",
        "* **🍳 Receita:**\n",
        "    ```sql\n",
        "    SELECT\n",
        "        v.produto,\n",
        "        v.quantidade,\n",
        "        c.nome_cliente,\n",
        "        c.cidade\n",
        "    FROM\n",
        "        vendas v\n",
        "    INNER JOIN\n",
        "        clientes c ON v.id_cliente = c.id_cliente;\n",
        "    ```\n",
        "* **📊 Resultado:** Uma tabela combinada mostrando o produto, quantidade, nome do cliente e cidade. A venda da Mesa (cliente 104) aparecerá aqui porque ele existe na tabela `clientes` do nosso exemplo Python.\n",
        "    ```\n",
        "    | produto       | quantidade | nome_cliente | cidade      |\n",
        "    | :------------ | :--------- | :----------- | :---------- |\n",
        "    | Laptop        | 1          | Ana Silva    | São Paulo   |\n",
        "    | Teclado       | 2          | Bruno Lima   | Rio Janeiro |\n",
        "    | Caneca        | 10         | Ana Silva    | São Paulo   |\n",
        "    | Monitor       | 1          | Carla Dias   | São Paulo   |\n",
        "    | Cadeira Gamer | 1          | Bruno Lima   | Rio Janeiro |\n",
        "    | Mouse         | 3          | Ana Silva    | São Paulo   |\n",
        "    | Mesa de Escrit.| NaN        | Daniel Reis  | B. Horizonte|\n",
        "    ```"
      ],
      "metadata": {
        "id": "SNGq5ku0A07y"
      }
    },
    {
      "cell_type": "markdown",
      "source": [
        "## 2. Pandas (Python Data Analysis Library)\n",
        "\n",
        "Faz quase tudo que o SQL faz, mas diretamente na memória do Python, com objetos chamados DataFrames.\n",
        "O código abaixo cria nossos dois DataFrames principais na memória:"
      ],
      "metadata": {
        "id": "6fB97PxGBQIW"
      }
    },
    {
      "cell_type": "code",
      "execution_count": 5,
      "metadata": {
        "id": "q4f3WtQKdIbU",
        "colab": {
          "base_uri": "https://localhost:8080/"
        },
        "outputId": "7e9b0172-4ab2-4d7a-b874-3e4d2edda323"
      },
      "outputs": [
        {
          "output_type": "stream",
          "name": "stdout",
          "text": [
            "DataFrames criados:\n",
            "--- Vendas ---\n",
            "   id_venda          produto    categoria  quantidade  preco_unitario  \\\n",
            "0         1           Laptop  Eletrônicos         1.0          3500.0   \n",
            "1         2          Teclado  Eletrônicos         2.0           150.0   \n",
            "2         3           Caneca         Casa        10.0            25.0   \n",
            "3         4          Monitor  Eletrônicos         1.0          1200.0   \n",
            "4         5    Cadeira Gamer       Móveis         1.0           950.0   \n",
            "5         6            Mouse  Eletrônicos         3.0            80.0   \n",
            "6         7  Mesa de Escrit.       Móveis         NaN           450.0   \n",
            "\n",
            "   id_cliente data_venda  \n",
            "0         101 2025-10-20  \n",
            "1         102 2025-10-21  \n",
            "2         101 2025-10-21  \n",
            "3         103 2025-10-22  \n",
            "4         102 2025-10-23  \n",
            "5         101 2025-10-24  \n",
            "6         104 2025-10-25  \n",
            "\n",
            "--- Clientes ---\n",
            "   id_cliente nome_cliente        cidade\n",
            "0         101    Ana Silva     São Paulo\n",
            "1         102   Bruno Lima   Rio Janeiro\n",
            "2         103   Carla Dias     São Paulo\n",
            "3         104  Daniel Reis  B. Horizonte\n"
          ]
        }
      ],
      "source": [
        "import pandas as pd\n",
        "import numpy as np # Usaremos para criar um valor NaN\n",
        "\n",
        "# Criando o DataFrame 'vendas' diretamente no Python (listas dentro de um dicionário)\n",
        "data_vendas = {\n",
        "    'id_venda': [1, 2, 3, 4, 5, 6, 7],\n",
        "    'produto': ['Laptop', 'Teclado', 'Caneca', 'Monitor', 'Cadeira Gamer', 'Mouse', 'Mesa de Escrit.'],\n",
        "    'categoria': ['Eletrônicos', 'Eletrônicos', 'Casa', 'Eletrônicos', 'Móveis', 'Eletrônicos', 'Móveis'],\n",
        "    'quantidade': [1, 2, 10, 1, 1, 3, np.nan], # Adicionando NaN (NULL)\n",
        "    'preco_unitario': [3500.00, 150.00, 25.00, 1200.00, 950.00, 80.00, 450.00],\n",
        "    'id_cliente': [101, 102, 101, 103, 102, 101, 104],\n",
        "    'data_venda': pd.to_datetime(['2025-10-20', '2025-10-21', '2025-10-21', '2025-10-22', '2025-10-23', '2025-10-24', '2025-10-25']) # Convertendo para data\n",
        "}\n",
        "df_vendas = pd.DataFrame(data_vendas)\n",
        "\n",
        "# Criando o DataFrame 'clientes'\n",
        "data_clientes = {\n",
        "    'id_cliente': [101, 102, 103, 104],\n",
        "    'nome_cliente': ['Ana Silva', 'Bruno Lima', 'Carla Dias', 'Daniel Reis'],\n",
        "    'cidade': ['São Paulo', 'Rio Janeiro', 'São Paulo', 'B. Horizonte']\n",
        "}\n",
        "df_clientes = pd.DataFrame(data_clientes)\n",
        "\n",
        "print(\"DataFrames criados:\")\n",
        "print(\"--- Vendas ---\")\n",
        "print(df_vendas)\n",
        "print(\"\\n--- Clientes ---\")\n",
        "print(df_clientes)"
      ]
    },
    {
      "cell_type": "markdown",
      "source": [
        "### Receita 2.1: Ler um CSV (`pd.read_csv`)\n",
        "\n",
        "* **🧠 Intuição:** \"Dizer ao Python: 'Abra este arquivo (`vendas.csv`) que parece uma planilha e coloque os dados na nossa mesa de trabalho (`df_vendas`)'.\"\n",
        "* **🎓 Definição Técnica:** Função do Pandas para ler arquivos de texto delimitados (como CSV) em um objeto DataFrame. Possui diversos parâmetros para lidar com diferentes formatos (separador `sep`, cabeçalho `header`, codificação `encoding`, tratamento de erros `on_bad_lines`, etc.).\n",
        "* **🍳 Receita:**"
      ],
      "metadata": {
        "id": "qbqfbKNUCEQZ"
      }
    },
    {
      "cell_type": "code",
      "source": [
        "# 1. Primeiro, vamos SALVAR nosso df_vendas em um arquivo CSV\n",
        "#    Usamos index=False para não salvar o índice 0,1,2... como uma coluna\n",
        "try:\n",
        "    df_vendas.to_csv('vendas_para_teste.csv', index=False, sep=';', encoding='utf-8')\n",
        "    print(\"Arquivo 'vendas_para_teste.csv' salvo com sucesso (separador=';').\\n\")\n",
        "\n",
        "    # 2. Agora, vamos LER o arquivo que acabamos de criar.\n",
        "    #    Esta é a receita executável do pd.read_csv()\n",
        "    df_lido = pd.read_csv('vendas_para_teste.csv', sep=';')\n",
        "\n",
        "    print(\"--- Arquivo CSV lido de volta para a variável 'df_lido': ---\")\n",
        "    print(df_lido.head()) # .head() mostra as 5 primeiras linhas\n",
        "\n",
        "except Exception as e:\n",
        "    print(f\"Ocorreu um erro ao salvar/ler o arquivo: {e}\")\n",
        "    print(\"Verifique as permissões da pasta.\")"
      ],
      "metadata": {
        "colab": {
          "base_uri": "https://localhost:8080/"
        },
        "id": "BAjnnbVK_pVz",
        "outputId": "2e747b14-226c-4024-8fe3-1876ee2da83a"
      },
      "execution_count": 12,
      "outputs": [
        {
          "output_type": "stream",
          "name": "stdout",
          "text": [
            "Arquivo 'vendas_para_teste.csv' salvo com sucesso (separador=';').\n",
            "\n",
            "--- Arquivo CSV lido de volta para a variável 'df_lido': ---\n",
            "   id_venda        produto    categoria  quantidade  preco_unitario  \\\n",
            "0         1         Laptop  Eletrônicos         1.0          3500.0   \n",
            "1         2        Teclado  Eletrônicos         2.0           150.0   \n",
            "2         3         Caneca         Casa        10.0            25.0   \n",
            "3         4        Monitor  Eletrônicos         1.0          1200.0   \n",
            "4         5  Cadeira Gamer       Móveis         1.0           950.0   \n",
            "\n",
            "   id_cliente  data_venda  \n",
            "0         101  2025-10-20  \n",
            "1         102  2025-10-21  \n",
            "2         101  2025-10-21  \n",
            "3         103  2025-10-22  \n",
            "4         102  2025-10-23  \n"
          ]
        }
      ]
    },
    {
      "cell_type": "markdown",
      "source": [
        "* **📊 Resultado:** Se o arquivo 'vendas.csv' existisse no diretório, a variável `df_vendas_lido` conteria um DataFrame idêntico ao `df_vendas` que criamos manualmente. `.head()` é um método que exibe as primeiras 5 linhas do DataFrame, útil para uma verificação rápida."
      ],
      "metadata": {
        "id": "yZ4ghWCNAqYj"
      }
    },
    {
      "cell_type": "markdown",
      "source": [
        "### Receita 2.2: Filtrar (`df[...]`) - Equivalente ao `WHERE`\n",
        "\n",
        "* **🧠 Intuição:** \"Da nossa mesa de trabalho (`df_vendas`), me mostre *apenas* as linhas onde a coluna `categoria` é igual a `'Eletrônicos'`. Ou talvez, onde a `quantidade` é maior que 5.\"\n",
        "* **🎓 Definição Técnica:** Utiliza **Boolean Masking**. A expressão condicional (ex: `df_vendas['categoria'] == 'Eletrônicos'`) gera uma Série Pandas de valores `True` ou `False` (a máscara). Passar essa máscara dentro dos colchetes `df_vendas[...]` seleciona apenas as linhas onde a máscara é `True`. Condições múltiplas podem ser combinadas usando `&` (AND lógico) e `|` (OR lógico), agrupadas por parênteses devido à precedência de operadores.\n",
        "* **🍳 Receita:**"
      ],
      "metadata": {
        "id": "DxXelTFtDVbH"
      }
    },
    {
      "cell_type": "code",
      "source": [
        "# Filtro simples: Selecionar apenas a categoria 'Eletrônicos'\n",
        "df_eletronicos = df_vendas[df_vendas['categoria'] == 'Eletrônicos']\n",
        "print(\"--- Apenas Eletrônicos ---\")\n",
        "print(df_eletronicos)\n",
        "\n",
        "# Filtro composto: Categoria 'Eletrônicos' E quantidade maior que 1\n",
        "# (Note os parênteses obrigatórios em volta de cada condição)\n",
        "df_eletronicos_multiplos = df_vendas[\n",
        "    (df_vendas['categoria'] == 'Eletrônicos') & (df_vendas['quantidade'] > 1)\n",
        "]\n",
        "print(\"\\n--- Eletrônicos com Quantidade > 1 ---\")\n",
        "print(df_eletronicos_multiplos)\n",
        "\n",
        "# Filtro usando .isin() para múltiplos valores (o oposto de `WHERE categoria IN (...)`)\n",
        "categorias_interesse = ['Casa', 'Móveis']\n",
        "df_casa_moveis = df_vendas[df_vendas['categoria'].isin(categorias_interesse)]\n",
        "print(\"\\n--- Apenas Categorias 'Casa' ou 'Móveis' ---\")\n",
        "print(df_casa_moveis)"
      ],
      "metadata": {
        "colab": {
          "base_uri": "https://localhost:8080/"
        },
        "id": "ggkj55DB_-Gj",
        "outputId": "6d9f08ef-d060-4c36-fcc2-313576a43bbf"
      },
      "execution_count": 13,
      "outputs": [
        {
          "output_type": "stream",
          "name": "stdout",
          "text": [
            "--- Apenas Eletrônicos ---\n",
            "   id_venda  produto    categoria  quantidade  preco_unitario  id_cliente  \\\n",
            "0         1   Laptop  Eletrônicos         1.0          3500.0         101   \n",
            "1         2  Teclado  Eletrônicos         2.0           150.0         102   \n",
            "3         4  Monitor  Eletrônicos         1.0          1200.0         103   \n",
            "5         6    Mouse  Eletrônicos         3.0            80.0         101   \n",
            "\n",
            "  data_venda  \n",
            "0 2025-10-20  \n",
            "1 2025-10-21  \n",
            "3 2025-10-22  \n",
            "5 2025-10-24  \n",
            "\n",
            "--- Eletrônicos com Quantidade > 1 ---\n",
            "   id_venda  produto    categoria  quantidade  preco_unitario  id_cliente  \\\n",
            "1         2  Teclado  Eletrônicos         2.0           150.0         102   \n",
            "5         6    Mouse  Eletrônicos         3.0            80.0         101   \n",
            "\n",
            "  data_venda  \n",
            "1 2025-10-21  \n",
            "5 2025-10-24  \n",
            "\n",
            "--- Apenas Categorias 'Casa' ou 'Móveis' ---\n",
            "   id_venda          produto categoria  quantidade  preco_unitario  \\\n",
            "2         3           Caneca      Casa        10.0            25.0   \n",
            "4         5    Cadeira Gamer    Móveis         1.0           950.0   \n",
            "6         7  Mesa de Escrit.    Móveis         NaN           450.0   \n",
            "\n",
            "   id_cliente data_venda  \n",
            "2         101 2025-10-21  \n",
            "4         102 2025-10-23  \n",
            "6         104 2025-10-25  \n"
          ]
        }
      ]
    },
    {
      "cell_type": "markdown",
      "source": [
        "* **📊 Resultado:** `df_eletronicos` conterá um novo DataFrame apenas com as 4 linhas correspondentes a produtos eletrônicos. `df_eletronicos_multiplos` conterá apenas as 2 linhas de 'Teclado' e 'Mouse', que satisfazem ambas as condições. `df_casa_moveis` conterá as linhas de 'Caneca', 'Cadeira Gamer' e 'Mesa de Escrit.'. A filtragem é essencial para isolar subconjuntos de dados para análises específicas."
      ],
      "metadata": {
        "id": "aILwppsmAmGv"
      }
    },
    {
      "cell_type": "markdown",
      "source": [
        "### Receita 2.3: Agrupar (`.groupby().agg()`) - Equivalente ao `GROUP BY`\n",
        "\n",
        "* **🧠 Intuição:** \"Vamos fazer 'montinhos' (`groupby`) por `categoria` na nossa mesa de trabalho. Depois, para cada montinho, vamos calcular (`agg`) várias coisas: o total vendido (`sum` da quantidade), o preço médio (`mean` do preço) e quantas vendas teve (`count`).\"\n",
        "* **🎓 Definição Técnica:** O método `.groupby()` cria um objeto `DataFrameGroupBy`, que representa os dados particionados pelos grupos especificados. Métodos de agregação (`.sum()`, `.mean()`, `.count()`, `.min()`, `.max()`, `.std()`, etc.) podem ser encadeados para calcular estatísticas por grupo. O método `.agg()` é mais flexível, permitindo aplicar múltiplas funções de agregação simultaneamente e renomear as colunas resultantes. Ele recebe um dicionário onde as chaves são os nomes das novas colunas e os valores são tuplas `('coluna_original', 'funcao_agregacao_string')` ou diretamente a função de agregação.\n",
        "* **🍳 Receita:**"
      ],
      "metadata": {
        "id": "3pkHcsmZGBa-"
      }
    },
    {
      "cell_type": "code",
      "source": [
        "resumo_categoria_pd = df_vendas.groupby('categoria').agg(\n",
        "    total_vendido=('quantidade', 'sum'),           # Soma as quantidades\n",
        "    preco_medio=('preco_unitario', 'mean'),        # Calcula a média dos preços\n",
        "    contagem_vendas=('id_venda', 'count'),         # Conta o número de vendas (linhas)\n",
        "    preco_maximo=('preco_unitario', 'max')         # Encontra o preço unitário máximo\n",
        ").reset_index() # Transforma o índice 'categoria' de volta em coluna\n",
        "\n",
        "print(\"--- Resumo por Categoria (Pandas) ---\")\n",
        "print(resumo_categoria_pd)"
      ],
      "metadata": {
        "colab": {
          "base_uri": "https://localhost:8080/"
        },
        "id": "Mjung4eXBMI7",
        "outputId": "2046d07d-f1d2-4a22-80f9-8ac728371a80"
      },
      "execution_count": 14,
      "outputs": [
        {
          "output_type": "stream",
          "name": "stdout",
          "text": [
            "--- Resumo por Categoria (Pandas) ---\n",
            "     categoria  total_vendido  preco_medio  contagem_vendas  preco_maximo\n",
            "0         Casa           10.0         25.0                1          25.0\n",
            "1  Eletrônicos            7.0       1232.5                4        3500.0\n",
            "2       Móveis            1.0        700.0                2         950.0\n"
          ]
        }
      ]
    },
    {
      "cell_type": "markdown",
      "source": [
        "* **📊 Resultado:** Produz um novo DataFrame, onde cada linha representa uma `categoria`. As colunas mostram as estatísticas agregadas calculadas para cada grupo: a soma total de `quantidade` (ignorando o NaN), a média do `preco_unitario`, a contagem de `id_venda` (número de produtos naquela categoria) e o `preco_unitario` mais alto encontrado. O `.reset_index()` é usado para que `categoria` volte a ser uma coluna normal, facilitando manipulações posteriores."
      ],
      "metadata": {
        "id": "6zRDRMUMBQXJ"
      }
    },
    {
      "cell_type": "markdown",
      "source": [
        "### Receita 2.4: Juntar (`pd.merge()`) - Equivalente ao `JOIN`\n",
        "\n",
        "* **🧠 Intuição:** \"Vamos 'colar' (`merge`) a nossa mesa de vendas (`df_vendas`) com a mesa de clientes (`df_clientes`) usando o `id_cliente` como 'cola', para que possamos ver o nome e a cidade do cliente ao lado de cada venda.\"\n",
        "* **🎓 Definição Técnica:** A função `pd.merge()` combina dois DataFrames com base em uma ou mais colunas comuns (chaves), similar às operações JOIN em SQL.\n",
        "    * `on`: Especifica a(s) coluna(s) chave(s) para a junção. Se os nomes forem diferentes, usa-se `left_on` e `right_on`.\n",
        "    * `how`: Define o tipo de junção:\n",
        "        * `'inner'` (padrão): Retorna apenas linhas com chaves correspondentes em *ambos* DataFrames (equivalente a INNER JOIN).\n",
        "        * `'left'`: Retorna todas as linhas do DataFrame da *esquerda* (`df_vendas`) e as correspondentes da direita (`df_clientes`). Se não houver correspondência, preenche com `NaN` (equivalente a LEFT JOIN).\n",
        "        * `'right'`: O oposto do 'left'.\n",
        "        * `'outer'`: Retorna todas as linhas de *ambos*, preenchendo com `NaN` onde não há correspondência.\n",
        "* **🍳 Receita:**"
      ],
      "metadata": {
        "id": "iLoHybU3TNvF"
      }
    },
    {
      "cell_type": "code",
      "source": [
        "# Junção padrão (INNER JOIN)\n",
        "df_completo_inner = pd.merge(\n",
        "    df_vendas,\n",
        "    df_clientes,\n",
        "    on='id_cliente',\n",
        "    how='inner'\n",
        ")\n",
        "print(\"--- Tabela Combinada (INNER JOIN) ---\")\n",
        "print(df_completo_inner)\n",
        "\n",
        "# Exemplo com LEFT JOIN (para incluir vendas mesmo sem cliente correspondente, se houvesse)\n",
        "# df_completo_left = pd.merge(\n",
        "#     df_vendas,\n",
        "#     df_clientes,\n",
        "#     on='id_cliente',\n",
        "#     how='left'\n",
        "# )\n",
        "# print(\"\\n--- Tabela Combinada (LEFT JOIN) ---\")\n",
        "# print(df_completo_left)"
      ],
      "metadata": {
        "colab": {
          "base_uri": "https://localhost:8080/"
        },
        "id": "xA5sDhlwBb94",
        "outputId": "715db3c8-22d3-429d-d30c-60459c2396f6"
      },
      "execution_count": 15,
      "outputs": [
        {
          "output_type": "stream",
          "name": "stdout",
          "text": [
            "--- Tabela Combinada (INNER JOIN) ---\n",
            "   id_venda          produto    categoria  quantidade  preco_unitario  \\\n",
            "0         1           Laptop  Eletrônicos         1.0          3500.0   \n",
            "1         2          Teclado  Eletrônicos         2.0           150.0   \n",
            "2         3           Caneca         Casa        10.0            25.0   \n",
            "3         4          Monitor  Eletrônicos         1.0          1200.0   \n",
            "4         5    Cadeira Gamer       Móveis         1.0           950.0   \n",
            "5         6            Mouse  Eletrônicos         3.0            80.0   \n",
            "6         7  Mesa de Escrit.       Móveis         NaN           450.0   \n",
            "\n",
            "   id_cliente data_venda nome_cliente        cidade  \n",
            "0         101 2025-10-20    Ana Silva     São Paulo  \n",
            "1         102 2025-10-21   Bruno Lima   Rio Janeiro  \n",
            "2         101 2025-10-21    Ana Silva     São Paulo  \n",
            "3         103 2025-10-22   Carla Dias     São Paulo  \n",
            "4         102 2025-10-23   Bruno Lima   Rio Janeiro  \n",
            "5         101 2025-10-24    Ana Silva     São Paulo  \n",
            "6         104 2025-10-25  Daniel Reis  B. Horizonte  \n"
          ]
        }
      ]
    },
    {
      "cell_type": "markdown",
      "source": [
        "* **📊 Resultado:** `df_completo_inner` conterá um DataFrame com todas as colunas de `df_vendas` e `df_clientes` (exceto `id_cliente` duplicado). Como todos os `id_cliente` em `df_vendas` existem em `df_clientes` neste exemplo, o resultado do `inner` e do `left` seria o mesmo. O `merge` é fundamental para enriquecer os dados de uma tabela com informações de outra."
      ],
      "metadata": {
        "id": "RkFVmxikBfTN"
      }
    },
    {
      "cell_type": "markdown",
      "source": [
        "### Receita 2.5: Lidar com Dados Nulos (`.isnull()`, `.fillna()`, `.dropna()`)\n",
        "\n",
        "* **🧠 Intuição:** \"Ops! A 'quantidade' da Mesa de Escritório está vazia (`NaN`, que é o 'NULL' do Pandas). Isso vai dar problema nos cálculos. O que fazemos? (1) Jogamos a linha inteira da Mesa fora (`dropna`)? Ou (2) Tentamos 'adivinhar' um valor para colocar ali (`fillna`), como a quantidade '1' (que é a mais comum para móveis)?\"\n",
        "* **🎓 Definição Técnica:** Dados ausentes (`NaN` - Not a Number) são valores indefinidos que precisam ser tratados antes da análise ou modelagem.\n",
        "    * `.isnull()`: Retorna uma máscara booleana (`True` onde for `NaN`). Encadeado com `.sum()` (`df.isnull().sum()`), conta os `NaN`s por coluna.\n",
        "    * `.dropna()`: Remove linhas (padrão, `axis=0`) ou colunas (`axis=1`) que contêm pelo menos um `NaN`. O argumento `subset` permite especificar colunas onde procurar por `NaN`s. É uma abordagem simples, mas pode levar à perda significativa de dados.\n",
        "    * `.fillna()`: Preenche os `NaN`s com um valor especificado. Pode ser um valor escalar (ex: 0, 'Desconhecido'), uma medida estatística (média `.mean()`, mediana `.median()`, moda `.mode()[0]`), ou usar métodos de preenchimento como `method='ffill'` (propaga o último valor válido para frente) ou `method='bfill'` (propaga o próximo valor válido para trás). A escolha da estratégia de imputação é crucial e depende do contexto.\n",
        "* **🍳 Receita (Código Pandas):**"
      ],
      "metadata": {
        "id": "q-tx4H__Ux-1"
      }
    },
    {
      "cell_type": "code",
      "source": [
        "# 1. Verificar onde estão os nulos\n",
        "print(\"--- Contagem de Nulos por Coluna (Antes) ---\")\n",
        "print(df_vendas.isnull().sum())\n",
        "\n",
        "# 2. Estratégia A: Preencher o nulo na quantidade com a mediana da coluna\n",
        "mediana_qtd = df_vendas['quantidade'].median() # Mediana é mais robusta\n",
        "print(f\"\\nA mediana da quantidade é: {mediana_qtd}\")\n",
        "\n",
        "df_vendas_filled = df_vendas.copy() # Criar cópia para não alterar o original\n",
        "df_vendas_filled['quantidade'] = df_vendas_filled['quantidade'].fillna(mediana_qtd)\n",
        "print(\"\\n--- DataFrame com Nulos Preenchidos (fillna com mediana) ---\")\n",
        "print(df_vendas_filled)\n",
        "print(\"Contagem de Nulos (Depois do fillna):\")\n",
        "print(df_vendas_filled['quantidade'].isnull().sum()) # Deve ser 0\n",
        "\n",
        "# 3. Estratégia B: Remover a linha que contém nulos na coluna 'quantidade'\n",
        "df_vendas_dropped = df_vendas.dropna(subset=['quantidade']) # Remove a linha da Mesa\n",
        "print(\"\\n--- DataFrame com Linha Nula Removida (dropna) ---\")\n",
        "print(df_vendas_dropped)\n",
        "print(f\"Número de linhas antes: {len(df_vendas)}, depois do dropna: {len(df_vendas_dropped)}\")"
      ],
      "metadata": {
        "colab": {
          "base_uri": "https://localhost:8080/"
        },
        "id": "_UaVWIAmCZIX",
        "outputId": "2f514a1e-b4d7-4501-dd6c-8459c92d8114"
      },
      "execution_count": 17,
      "outputs": [
        {
          "output_type": "stream",
          "name": "stdout",
          "text": [
            "--- Contagem de Nulos por Coluna (Antes) ---\n",
            "id_venda          0\n",
            "produto           0\n",
            "categoria         0\n",
            "quantidade        1\n",
            "preco_unitario    0\n",
            "id_cliente        0\n",
            "data_venda        0\n",
            "produto_limpo     0\n",
            "dtype: int64\n",
            "\n",
            "A mediana da quantidade é: 1.5\n",
            "\n",
            "--- DataFrame com Nulos Preenchidos (fillna com mediana) ---\n",
            "   id_venda          produto    categoria  quantidade  preco_unitario  \\\n",
            "0         1           Laptop  Eletrônicos         1.0          3500.0   \n",
            "1         2          Teclado  Eletrônicos         2.0           150.0   \n",
            "2         3           Caneca         Casa        10.0            25.0   \n",
            "3         4          Monitor  Eletrônicos         1.0          1200.0   \n",
            "4         5    Cadeira Gamer       Móveis         1.0           950.0   \n",
            "5         6            Mouse  Eletrônicos         3.0            80.0   \n",
            "6         7  Mesa de Escrit.       Móveis         1.5           450.0   \n",
            "\n",
            "   id_cliente data_venda   produto_limpo  \n",
            "0         101 2025-10-20          laptop  \n",
            "1         102 2025-10-21         teclado  \n",
            "2         101 2025-10-21          caneca  \n",
            "3         103 2025-10-22         monitor  \n",
            "4         102 2025-10-23   cadeira gamer  \n",
            "5         101 2025-10-24           mouse  \n",
            "6         104 2025-10-25  mesa de escrit  \n",
            "Contagem de Nulos (Depois do fillna):\n",
            "0\n",
            "\n",
            "--- DataFrame com Linha Nula Removida (dropna) ---\n",
            "   id_venda        produto    categoria  quantidade  preco_unitario  \\\n",
            "0         1         Laptop  Eletrônicos         1.0          3500.0   \n",
            "1         2        Teclado  Eletrônicos         2.0           150.0   \n",
            "2         3         Caneca         Casa        10.0            25.0   \n",
            "3         4        Monitor  Eletrônicos         1.0          1200.0   \n",
            "4         5  Cadeira Gamer       Móveis         1.0           950.0   \n",
            "5         6          Mouse  Eletrônicos         3.0            80.0   \n",
            "\n",
            "   id_cliente data_venda  produto_limpo  \n",
            "0         101 2025-10-20         laptop  \n",
            "1         102 2025-10-21        teclado  \n",
            "2         101 2025-10-21         caneca  \n",
            "3         103 2025-10-22        monitor  \n",
            "4         102 2025-10-23  cadeira gamer  \n",
            "5         101 2025-10-24          mouse  \n",
            "Número de linhas antes: 7, depois do dropna: 6\n"
          ]
        }
      ]
    },
    {
      "cell_type": "markdown",
      "source": [
        "* **📊 Resultado:** A primeira parte mostra que apenas a coluna `quantidade` tem um valor nulo. `df_vendas_filled` terá a linha 7 ('Mesa de Escrit.') com a `quantidade` preenchida pelo valor da mediana (que é 1.0 neste caso). `df_vendas_dropped` terá apenas 6 linhas, pois a linha 7 foi completamente removida. A estratégia `fillna` preserva mais dados, enquanto `dropna` é mais simples, mas pode enviesar a análise se muitos dados forem removidos. A escolha depende do percentual de dados faltantes e do impacto da variável."
      ],
      "metadata": {
        "id": "SrTPWqkWCcDm"
      }
    },
    {
      "cell_type": "markdown",
      "source": [
        "## 3. Receitas Avançadas de Limpeza e Transformação\n",
        "\n",
        "A limpeza básica (tipos, nulos, duplicatas) é só o começo. Frequentemente, precisamos transformar os dados para torná-los mais úteis ou padronizados."
      ],
      "metadata": {
        "id": "A3QGjRJmWD6k"
      }
    },
    {
      "cell_type": "markdown",
      "source": [
        "### Receita 3.1: Limpeza Avançada de Texto (`.str` e `regex`)\n",
        "\n",
        "* **🧠 Intuição:** \"Os nomes dos produtos estão uma bagunça ('Laptop Modelo X!', 'Teclado (Sem Fio)'). Vamos tirar os caracteres especiais ('!') e padronizar, talvez extrair só a informação principal ('Laptop', 'Teclado').\"\n",
        "* **🎓 Definição Técnica:** Uso de métodos do acessador `.str` combinados com expressões regulares (`regex`) para limpar e padronizar strings. Inclui remoção de caracteres indesejados (`replace`), extração de padrões (`extract`), verificação de conteúdo (`contains`), e padronização de caixa (`lower`, `upper`, `title`).\n",
        "* **🍳 Receita:**"
      ],
      "metadata": {
        "id": "uhITt3l-Y5sN"
      }
    },
    {
      "cell_type": "code",
      "source": [
        "# Exemplo: Limpar coluna 'produto'\n",
        "df_vendas['produto_limpo'] = df_vendas['produto'].str.lower() # Padroniza caixa\n",
        "# Remove caracteres não alfanuméricos (exceto espaço) usando regex\n",
        "df_vendas['produto_limpo'] = df_vendas['produto_limpo'].str.replace(r'[^\\w\\s]+', '', regex=True)\n",
        "# Remove espaços extras no início/fim\n",
        "df_vendas['produto_limpo'] = df_vendas['produto_limpo'].str.strip()\n",
        "\n",
        "print(\"\\n--- Coluna 'produto' após limpeza de texto ---\")\n",
        "print(df_vendas[['produto', 'produto_limpo']])"
      ],
      "metadata": {
        "colab": {
          "base_uri": "https://localhost:8080/"
        },
        "id": "kPAWG9BsClWC",
        "outputId": "01a22359-0c77-494c-ddd4-5da24146cf56"
      },
      "execution_count": 16,
      "outputs": [
        {
          "output_type": "stream",
          "name": "stdout",
          "text": [
            "\n",
            "--- Coluna 'produto' após limpeza de texto ---\n",
            "           produto   produto_limpo\n",
            "0           Laptop          laptop\n",
            "1          Teclado         teclado\n",
            "2           Caneca          caneca\n",
            "3          Monitor         monitor\n",
            "4    Cadeira Gamer   cadeira gamer\n",
            "5            Mouse           mouse\n",
            "6  Mesa de Escrit.  mesa de escrit\n"
          ]
        }
      ]
    },
    {
      "cell_type": "markdown",
      "source": [
        "* **📊 Resultado:** A nova coluna `produto_limpo` conterá versões padronizadas ('laptop', 'teclado', 'mesa de escrit'), mais fáceis de agrupar ou usar em modelos. Regex é uma ferramenta poderosa (e complexa) essencial para limpeza de texto."
      ],
      "metadata": {
        "id": "8L97oTquCosu"
      }
    },
    {
      "cell_type": "markdown",
      "source": [
        "### Receita 3.2: Manipulação de Datas (`pd.to_datetime` e `.dt`)\n",
        "\n",
        "* **🧠 Intuição:** \"A coluna `data_venda` já é uma data, mas eu quero saber *apenas* o mês da venda, ou o dia da semana, ou quantos dias se passaram desde a venda.\"\n",
        "* **🎓 Definição Técnica:** Após garantir que a coluna é do tipo `datetime` (usando `pd.to_datetime`), o acessador `.dt` permite extrair componentes da data/hora (ano `.dt.year`, mês `.dt.month`, dia `.dt.day`, dia da semana `.dt.dayofweek`, etc.) ou calcular durações (`datetime.now() - df['data_venda']`).\n",
        "* **🍳 Receita:**"
      ],
      "metadata": {
        "id": "mFjaKBNXZPat"
      }
    },
    {
      "cell_type": "code",
      "source": [
        "# Garante que a coluna é datetime (já fizemos na criação)\n",
        "# df_vendas['data_venda'] = pd.to_datetime(df_vendas['data_venda'])\n",
        "\n",
        "# Extrair componentes\n",
        "df_vendas['mes_venda'] = df_vendas['data_venda'].dt.month\n",
        "df_vendas['dia_semana_venda'] = df_vendas['data_venda'].dt.dayofweek # 0=Segunda, 6=Domingo\n",
        "\n",
        "# Calcular tempo decorrido (ex: dias desde a venda até hoje)\n",
        "hoje = pd.to_datetime('today').normalize() # Pega a data de hoje, sem as horas\n",
        "df_vendas['dias_desde_venda'] = (hoje - df_vendas['data_venda']).dt.days\n",
        "\n",
        "print(\"\\n--- Colunas de data extraídas e calculadas ---\")\n",
        "print(df_vendas[['data_venda', 'mes_venda', 'dia_semana_venda', 'dias_desde_venda']].head())"
      ],
      "metadata": {
        "colab": {
          "base_uri": "https://localhost:8080/"
        },
        "id": "Id8fJUQdCrxi",
        "outputId": "6a0c2d8d-9549-4728-e7be-dc631702608d"
      },
      "execution_count": 18,
      "outputs": [
        {
          "output_type": "stream",
          "name": "stdout",
          "text": [
            "\n",
            "--- Colunas de data extraídas e calculadas ---\n",
            "  data_venda  mes_venda  dia_semana_venda  dias_desde_venda\n",
            "0 2025-10-20         10                 0                 9\n",
            "1 2025-10-21         10                 1                 8\n",
            "2 2025-10-21         10                 1                 8\n",
            "3 2025-10-22         10                 2                 7\n",
            "4 2025-10-23         10                 3                 6\n"
          ]
        }
      ]
    },
    {
      "cell_type": "markdown",
      "source": [
        "* **📊 Resultado:** O DataFrame agora tem colunas adicionais (`mes_venda`, `dia_semana_venda`, `dias_desde_venda`) que podem ser usadas como *features* em modelos de ML (Engenharia de Features) ou para análises sazonais."
      ],
      "metadata": {
        "id": "JC2HMm3rCwbS"
      }
    },
    {
      "cell_type": "markdown",
      "source": [
        "### Receita 3.3: Detecção e Tratamento (Básico) de Outliers\n",
        "\n",
        "* **🧠 Intuição:** \"O gráfico Boxplot mostrou um salário 'lá em cima', muito diferente dos outros. Esse valor extremo (outlier) pode distorcer nossa média e talvez até o modelo. Precisamos decidir: ele é um erro de digitação (removemos/corrigimos) ou é real (mantemos, ou usamos técnicas robustas)?\"\n",
        "* **🎓 Definição Técnica:** Outliers são pontos de dados que diferem significativamente de outras observações. Podem ser erros ou valores genuinamente extremos. Métodos comuns de detecção incluem inspeção visual (Boxplot, Scatterplot) ou regras estatísticas (ex: Z-score > 3, ou fora de 1.5 * IQR dos quartis). O tratamento varia: remoção, correção (se for erro claro), transformação (ex: log) ou uso de modelos robustos a outliers (como a Mediana ou árvores de decisão).\n",
        "* **🍳 Receita:**"
      ],
      "metadata": {
        "id": "0rKLIM9TZi1Q"
      }
    },
    {
      "cell_type": "code",
      "source": [
        "# 1. Detecção usando IQR (método do Intervalo Interquartil)\n",
        "Q1 = df_vendas['preco_unitario'].quantile(0.25)\n",
        "Q3 = df_vendas['preco_unitario'].quantile(0.75)\n",
        "IQR = Q3 - Q1\n",
        "limite_inferior = Q1 - 1.5 * IQR # método de Tukey\n",
        "limite_superior = Q3 + 1.5 * IQR\n",
        "\n",
        "print(f\"\\n--- Detecção de Outliers (Preço Unitário) ---\")\n",
        "print(f\"Q1: {Q1}, Q3: {Q3}, IQR: {IQR}\")\n",
        "print(f\"Limites para outliers: Abaixo de {limite_inferior:.2f} ou Acima de {limite_superior:.2f}\")\n",
        "\n",
        "# Identificar os outliers\n",
        "outliers = df_vendas[\n",
        "    (df_vendas['preco_unitario'] < limite_inferior) | (df_vendas['preco_unitario'] > limite_superior)\n",
        "]\n",
        "print(\"\\nOutliers encontrados:\")\n",
        "if not outliers.empty:\n",
        "    print(outliers)\n",
        "else:\n",
        "    print(\"Nenhum outlier encontrado pelos limites do IQR.\")\n",
        "\n",
        "# 2. Tratamento (Exemplo: Capping - Limitar ao valor máximo/mínimo aceitável)\n",
        "# df_vendas['preco_unitario_capped'] = df_vendas['preco_unitario'].clip(lower=limite_inferior, upper=limite_superior)\n",
        "# print(\"\\nPreço após capping (limitação):\")\n",
        "# print(df_vendas['preco_unitario_capped'])\n",
        "# NOTA: Capping/Remoção deve ser feito com MUITO cuidado. Geralmente é melhor manter."
      ],
      "metadata": {
        "colab": {
          "base_uri": "https://localhost:8080/"
        },
        "id": "Q1WAfzY2C6fj",
        "outputId": "70a1139b-805e-40b1-d81e-448b01abac5d"
      },
      "execution_count": 19,
      "outputs": [
        {
          "output_type": "stream",
          "name": "stdout",
          "text": [
            "\n",
            "--- Detecção de Outliers (Preço Unitário) ---\n",
            "Q1: 115.0, Q3: 1075.0, IQR: 960.0\n",
            "Limites para outliers: Abaixo de -1325.00 ou Acima de 2515.00\n",
            "\n",
            "Outliers encontrados:\n",
            "   id_venda produto    categoria  quantidade  preco_unitario  id_cliente  \\\n",
            "0         1  Laptop  Eletrônicos         1.0          3500.0         101   \n",
            "\n",
            "  data_venda produto_limpo  mes_venda  dia_semana_venda  dias_desde_venda  \n",
            "0 2025-10-20        laptop         10                 0                 9  \n"
          ]
        }
      ]
    },
    {
      "cell_type": "markdown",
      "source": [
        "* **📊 Resultado:** O código calcula os limites baseados no IQR. No nosso exemplo, o Laptop (3500) provavelmente será identificado como outlier superior. A seção de tratamento (comentada) mostra como poderíamos \"limitar\" (cap) esse valor ao `limite_superior`, mas ressalta que a remoção ou alteração de outliers exige análise crítica do negócio."
      ],
      "metadata": {
        "id": "yUF0CnoNC-GC"
      }
    },
    {
      "cell_type": "markdown",
      "source": [
        "### Receita 3.4: Binning (Discretização) com `pd.cut` e `pd.qcut`\n",
        "\n",
        "* **🧠 Intuição:** \"A coluna `preco_unitario` tem muitos valores diferentes (R$ 25, R$ 150, R$ 3500...). Isso pode ser muito detalhado para uma análise ou modelo. Vamos simplificar criando 'faixas de preço' (ex: 'Barato', 'Médio', 'Caro').\"\n",
        "* **🎓 Definição Técnica:** Processo de converter uma variável numérica contínua em uma variável categórica discreta (bins ou faixas). Isso pode reduzir o ruído e capturar relações não-lineares.\n",
        "    * **`pd.cut` (Corte por Valor):** Você define os *limites* exatos das faixas (ex: 0-200, 201-1000, 1001+). Isso é bom quando você tem regras de negócio claras.\n",
        "    * **`pd.qcut` (Corte por Quantil):** Você define *quantas faixas* quer (ex: 3), e o Pandas garante que cada faixa tenha (aproximadamente) o *mesmo número de produtos*. Isso é bom para segmentação.\n",
        "* **🍳 Receita:**"
      ],
      "metadata": {
        "id": "93b92lQrZoRX"
      }
    },
    {
      "cell_type": "code",
      "source": [
        "# Usando o DataFrame deste exercício: df_vendas\n",
        "print(\"--- Preços Originais ---\")\n",
        "print(df_vendas[['produto', 'preco_unitario']])\n",
        "\n",
        "# --- Opção 1: pd.cut (Definindo os limites de valor) ---\n",
        "# Queremos faixas: Barato (0-200), Médio (200-1000), Caro (1000+)\n",
        "# Usamos -np.inf e np.inf para garantir que pegamos todos os valores\n",
        "faixas_valor = [-np.inf, 200, 1000, np.inf]\n",
        "nomes_faixas_valor = ['Barato', 'Médio', 'Caro']\n",
        "\n",
        "# Criamos a nova coluna 'faixa_preco_valor'\n",
        "df_vendas['faixa_preco_valor'] = pd.cut(\n",
        "    df_vendas['preco_unitario'],\n",
        "    bins=faixas_valor,\n",
        "    labels=nomes_faixas_valor,\n",
        "    right=True # right=True (padrão) significa que o intervalo inclui o limite direito (ex: (200, 1000])\n",
        ")\n",
        "\n",
        "print(\"\\n--- Binning com pd.cut (Corte por Valor) ---\")\n",
        "print(df_vendas[['produto', 'preco_unitario', 'faixa_preco_valor']])\n",
        "\n",
        "\n",
        "# --- Opção 2: pd.qcut (Dividindo em grupos de tamanho igual) ---\n",
        "# Queremos 3 grupos (tercis), não importa o valor, apenas a quantidade\n",
        "# q=3 significa 3 grupos (tercis)\n",
        "nomes_faixas_quantil = ['Mais Barato (33%)', 'Intermediário (33%)', 'Mais Caro (33%)']\n",
        "\n",
        "# Criamos a nova coluna 'faixa_preco_quantil'\n",
        "df_vendas['faixa_preco_quantil'] = pd.qcut(\n",
        "    df_vendas['preco_unitario'],\n",
        "    q=3,\n",
        "    labels=nomes_faixas_quantil\n",
        ")\n",
        "\n",
        "print(\"\\n--- Binning com pd.qcut (Corte por Quantil) ---\")\n",
        "print(df_vendas[['produto', 'preco_unitario', 'faixa_preco_quantil']])\n",
        "\n",
        "# Veja a contagem para provar que pd.qcut dividiu os grupos:\n",
        "print(\"\\nContagem por quantil (pd.qcut):\")\n",
        "print(df_vendas['faixa_preco_quantil'].value_counts())"
      ],
      "metadata": {
        "colab": {
          "base_uri": "https://localhost:8080/"
        },
        "id": "uYpZTrLxDFYk",
        "outputId": "28d8c228-25a4-4da7-a132-7418f57c9a18"
      },
      "execution_count": 20,
      "outputs": [
        {
          "output_type": "stream",
          "name": "stdout",
          "text": [
            "--- Preços Originais ---\n",
            "           produto  preco_unitario\n",
            "0           Laptop          3500.0\n",
            "1          Teclado           150.0\n",
            "2           Caneca            25.0\n",
            "3          Monitor          1200.0\n",
            "4    Cadeira Gamer           950.0\n",
            "5            Mouse            80.0\n",
            "6  Mesa de Escrit.           450.0\n",
            "\n",
            "--- Binning com pd.cut (Corte por Valor) ---\n",
            "           produto  preco_unitario faixa_preco_valor\n",
            "0           Laptop          3500.0              Caro\n",
            "1          Teclado           150.0            Barato\n",
            "2           Caneca            25.0            Barato\n",
            "3          Monitor          1200.0              Caro\n",
            "4    Cadeira Gamer           950.0             Médio\n",
            "5            Mouse            80.0            Barato\n",
            "6  Mesa de Escrit.           450.0             Médio\n",
            "\n",
            "--- Binning com pd.qcut (Corte por Quantil) ---\n",
            "           produto  preco_unitario  faixa_preco_quantil\n",
            "0           Laptop          3500.0      Mais Caro (33%)\n",
            "1          Teclado           150.0  Intermediário (33%)\n",
            "2           Caneca            25.0    Mais Barato (33%)\n",
            "3          Monitor          1200.0      Mais Caro (33%)\n",
            "4    Cadeira Gamer           950.0      Mais Caro (33%)\n",
            "5            Mouse            80.0    Mais Barato (33%)\n",
            "6  Mesa de Escrit.           450.0  Intermediário (33%)\n",
            "\n",
            "Contagem por quantil (pd.qcut):\n",
            "faixa_preco_quantil\n",
            "Mais Caro (33%)        3\n",
            "Mais Barato (33%)      2\n",
            "Intermediário (33%)    2\n",
            "Name: count, dtype: int64\n"
          ]
        }
      ]
    },
    {
      "cell_type": "markdown",
      "source": [
        "* **📊 Resultado:**\n",
        "    * O DataFrame `df_vendas` agora tem duas novas colunas.\n",
        "    * A coluna `faixa_preco_valor` (feita com `pd.cut`) mostra 'Barato' (Teclado, Caneca, Mouse), 'Médio' (Cadeira, Mesa) e 'Caro' (Laptop, Monitor), com base nos *valores* que definimos.\n",
        "    * A coluna `faixa_preco_quantil` (feita com `pd.qcut`) dividiu os 7 produtos em 3 grupos com o número mais próximo possível de itens em cada (3, 2, 2). Veja como o 'Monitor' (1200) e 'Laptop' (3500) caíram no mesmo grupo 'Mais Caro (33%)'.\n",
        "    * Esta técnica é uma poderosa ferramenta de **Engenharia de Features** (Pilar 1 do ML)."
      ],
      "metadata": {
        "id": "3BoVsLHQDLGK"
      }
    }
  ]
}