{
  "nbformat": 4,
  "nbformat_minor": 0,
  "metadata": {
    "colab": {
      "provenance": [],
      "authorship_tag": "ABX9TyNiJW2JJMI4wjJzEjmpn9Ez",
      "include_colab_link": true
    },
    "kernelspec": {
      "name": "python3",
      "display_name": "Python 3"
    },
    "language_info": {
      "name": "python"
    }
  },
  "cells": [
    {
      "cell_type": "markdown",
      "metadata": {
        "id": "view-in-github",
        "colab_type": "text"
      },
      "source": [
        "<a href=\"https://colab.research.google.com/github/marcelofschiavo/ds-cookbook/blob/main/04_Modelagem_Estatistica_(Inferencial).ipynb\" target=\"_parent\"><img src=\"https://colab.research.google.com/assets/colab-badge.svg\" alt=\"Open In Colab\"/></a>"
      ]
    },
    {
      "cell_type": "markdown",
      "source": [
        "## 04. Introdução: Estatística Inferencial\n",
        "\n",
        "A EDA (Gráficos) nos mostrou pistas (Ex: 'Acho que quem sai tem salário menor').\n",
        "A Estatística Inferencial é a ferramenta forense que usamos para provar que essa pista é real e não foi só acaso.\n",
        "\n",
        "Aqui, lutamos contra o 'acaso' usando *p-values*. Se o p-value é baixo (Ex: < 0.05), significa que nossa pista é \"estatisticamente significativa\"."
      ],
      "metadata": {
        "id": "WVnJuaapVTH_"
      }
    },
    {
      "cell_type": "code",
      "source": [
        "\"\"\"\n",
        "## Setup: Carregar Bibliotecas e Dados\n",
        "\n",
        "Nesta célula, importamos as bibliotecas que usaremos (Pandas e SciPy)\n",
        "e carregamos nosso conjunto de dados (provavelmente o .csv limpo do Notebook 01).\n",
        "\"\"\"\n",
        "import pandas as pd\n",
        "from scipy import stats\n",
        "import warnings\n",
        "\n",
        "# Ignorar avisos futuros (apenas para limpar o output)\n",
        "warnings.filterwarnings('ignore')\n",
        "\n",
        "# --- Carregue seus dados aqui ---\n",
        "# (Substitua 'dados_empresa_limpos.csv' pelo nome do seu arquivo)\n",
        "try:\n",
        "    df = pd.read_csv('dados_empresa_limpos.csv')\n",
        "    print(\"DataFrame 'df' carregado com sucesso!\")\n",
        "    print(f\"Total de {df.shape[0]} linhas e {df.shape[1]} colunas.\")\n",
        "    print(\"\\nAmostra dos dados:\")\n",
        "    print(df.head())\n",
        "\n",
        "except FileNotFoundError:\n",
        "    print(\"------------------------------------------------------------------\")\n",
        "    print(\">>> ERRO: Arquivo 'dados_empresa_limpos.csv' não encontrado. <<<\")\n",
        "    print(\"Por favor, substitua pelo nome correto do seu arquivo de dados.\")\n",
        "    print(\"... Criando um DataFrame de EXEMPLO para o resto do notebook não quebrar.\")\n",
        "    print(\"------------------------------------------------------------------\")\n",
        "\n",
        "    # Criar um 'df' de exemplo para o resto do notebook não quebrar\n",
        "    data = {\n",
        "        'salario': [5000, 7000, 6000, 8000, 4500, 9000, 5200, 7100, 6200, 8100, 4600, 9200] * 10,\n",
        "        'pediu_demissao': [1, 0, 0, 0, 1, 0, 1, 0, 0, 1, 1, 0] * 10,\n",
        "        'departamento': ['TI', 'Vendas', 'RH', 'TI', 'Vendas', 'RH', 'TI', 'Vendas', 'RH', 'TI', 'Vendas', 'RH'] * 10\n",
        "    }\n",
        "    df = pd.DataFrame(data)\n",
        "    print(\"DataFrame de exemplo carregado.\")\n",
        "    print(df.head())"
      ],
      "metadata": {
        "colab": {
          "base_uri": "https://localhost:8080/"
        },
        "id": "MH7J79sbVkIM",
        "outputId": "d1dddc73-7972-4769-fbfc-326feb6f9a5b"
      },
      "execution_count": 3,
      "outputs": [
        {
          "output_type": "stream",
          "name": "stdout",
          "text": [
            "------------------------------------------------------------------\n",
            ">>> ERRO: Arquivo 'dados_empresa_limpos.csv' não encontrado. <<<\n",
            "Por favor, substitua pelo nome correto do seu arquivo de dados.\n",
            "... Criando um DataFrame de EXEMPLO para o resto do notebook não quebrar.\n",
            "------------------------------------------------------------------\n",
            "DataFrame de exemplo carregado.\n",
            "   salario  pediu_demissao departamento\n",
            "0     5000               1           TI\n",
            "1     7000               0       Vendas\n",
            "2     6000               0           RH\n",
            "3     8000               0           TI\n",
            "4     4500               1       Vendas\n"
          ]
        }
      ]
    },
    {
      "cell_type": "markdown",
      "source": [
        "## Conceito 1: Teste-T (Comparar a Média de 2 Grupos)\n",
        "\n",
        "🧠 **Intuição:**\n",
        "\"Vimos no gráfico que o salário médio de quem saiu é R$ 5k e de quem ficou é R$ 7k. Mas essa diferença de R$ 2k é real? Ou será que, se pegássemos outra amostra de funcionários, essa diferença sumiria? O Teste-T é o 'juiz' que nos diz se a diferença é real ou se foi só sorte (acaso).\"\n",
        "\n",
        "🎓 **Definição Técnica:**\n",
        "O **Teste-T de Amostras Independentes** (Independent T-Test) é um teste de hipótese paramétrico que avalia se as médias de duas populações (grupos) independentes são estatisticamente diferentes.\n",
        "* **Hipótese Nula ($H_0$):** As médias são iguais ($\\mu_1 = \\mu_2$). A diferença que vimos é o acaso.\n",
        "* **Hipótese Alternativa ($H_a$):** As médias são diferentes ($\\mu_1 \\neq \\mu_2$). A diferença é real.\n",
        "Buscamos um **p-value < 0.05** para rejeitar $H_0$.\n",
        "\n",
        "⚠️ **Suposições:**\n",
        "* **Normalidade:** Os dados de cada grupo devem ser *aproximadamente* normais. (Mas o teste é robusto se os grupos forem grandes, ex: N > 30).\n",
        "* **Homocedasticidade (Igualdade de Variâncias):** O Teste-T clássico assume variâncias iguais. Usar o **Teste de Welch** (`equal_var=False`) é mais seguro, pois não exige essa suposição.\n",
        "\n",
        "🍳 **Receita:**"
      ],
      "metadata": {
        "id": "U_1aD64BwKxy"
      }
    },
    {
      "cell_type": "code",
      "source": [
        "from scipy import stats\n",
        "import pandas as pd\n",
        "\n",
        "# 1. Separar os dois grupos que queremos comparar\n",
        "#    (Assumindo que 'pediu_demissao' é 1 para Sim, 0 para Não)\n",
        "saiu = df[df['pediu_demissao'] == 1]['salario'].dropna()\n",
        "ficou = df[df['pediu_demissao'] == 0]['salario'].dropna()\n",
        "\n",
        "# 2. Aplicar o teste (usando Teste de Welch, que é mais robusto)\n",
        "stat, pvalue = stats.ttest_ind(saiu, ficou, equal_var=False)\n",
        "\n",
        "print(f\"O P-Value do Teste-T é: {pvalue:.4f}\")\n",
        "\n",
        "# 3. Interpretar o P-Value (Nível de significância de 5% ou 0.05)\n",
        "if pvalue < 0.05:\n",
        "    print(\"Conclusão: A diferença é ESTATISTICAMENTE SIGNIFICATIVA.\")\n",
        "else:\n",
        "    print(\"Conclusão: A diferença pode ser obra do acaso.\")"
      ],
      "metadata": {
        "colab": {
          "base_uri": "https://localhost:8080/"
        },
        "id": "9odgbPEZw54y",
        "outputId": "05a2a33b-27b0-497b-8043-013fbd0fb23a"
      },
      "execution_count": 4,
      "outputs": [
        {
          "output_type": "stream",
          "name": "stdout",
          "text": [
            "O P-Value do Teste-T é: 0.0000\n",
            "Conclusão: A diferença é ESTATISTICAMENTE SIGNIFICATIVA.\n"
          ]
        }
      ]
    },
    {
      "cell_type": "markdown",
      "source": [
        "📊 **Resultado:**\n",
        "\"O P-Value foi 0.02. Como 0.02 é menor que 0.05 (nosso nível de significância), nós **rejeitamos a Hipótese Nula**.\n",
        "A conclusão científica é: A diferença no salário médio entre quem saiu e quem ficou é estatisticamente significativa. A pista da EDA foi validada.\""
      ],
      "metadata": {
        "id": "tuYIC4EYVWOC"
      }
    },
    {
      "cell_type": "markdown",
      "source": [
        "## Conceito 2: Teste Qui-Quadrado (Relação entre 2 Categóricas)\n",
        "\n",
        "🧠 **Intuição:**\n",
        "\"Será que o departamento (TI, Vendas, RH) tem alguma relação com a decisão de `pediu_demissao` (Sim, Não)? Se 10% da empresa saiu, o esperado era que 10% de *cada* departamento saísse. O Qui-Quadrado (Chi-Square) é um 'detector de anomalias' que nos diz se a distribuição que *realmente* aconteceu é muito 'estranha' ou diferente do esperado.\"\n",
        "\n",
        "🎓 **Definição Técnica:**\n",
        "O **Teste Qui-Quadrado ($\\chi^2$) de Independência** é um teste não-paramétrico que avalia se existe uma associação estatística entre duas variáveis categóricas.\n",
        "* **Hipótese Nula ($H_0$):** As variáveis são independentes (não há relação). A distribuição de saídas é aleatória entre os departamentos.\n",
        "* **Hipótese Alternativa ($H_a$):** As variáveis são dependentes (existe uma relação).\n",
        "Ele compara as frequências observadas (nossos dados) com as frequências esperadas (o que veríamos se $H_0$ fosse verdadeira).\n",
        "\n",
        "⚠️ **Suposições:**\n",
        "* A regra comum é que **todas as frequências esperadas devem ser > 1** e pelo menos **80% delas devem ser > 5**. Se isso não ocorrer (ex: um departamento com 1 pessoa), o teste perde a validade.\n",
        "\n",
        "🍳 **Receita:**"
      ],
      "metadata": {
        "id": "3sobpIjRVqGm"
      }
    },
    {
      "cell_type": "code",
      "source": [
        "from scipy.stats import chi2_contingency\n",
        "import pandas as pd\n",
        "\n",
        "# 1. Criar a tabela de contingência (cruzamento de frequências)\n",
        "#    Linhas: departamento, Colunas: pediu_demissao\n",
        "tabela_contingencia = pd.crosstab(df['departamento'], df['pediu_demissao'])\n",
        "\n",
        "print(\"Tabela Observada:\")\n",
        "print(tabela_contingencia)\n",
        "print(\"-\" * 30)\n",
        "\n",
        "# 2. Aplicar o teste\n",
        "chi2, pvalue, dof, expected_table = chi2_contingency(tabela_contingencia)\n",
        "\n",
        "print(f\"O P-Value do Qui-Quadrado é: {pvalue:.4f}\")\n",
        "\n",
        "# 3. Interpretar o P-Value\n",
        "if pvalue < 0.05:\n",
        "    print(\"Conclusão: A associação é ESTATISTICAMENTE SIGNIFICATIVA.\")\n",
        "else:\n",
        "    print(\"Conclusão: A associação pode ser obra do acaso.\")"
      ],
      "metadata": {
        "id": "0HpN-vOYVQ5y"
      },
      "execution_count": null,
      "outputs": []
    },
    {
      "cell_type": "markdown",
      "source": [
        "📊 **Resultado:**\n",
        "\"O P-Value foi 0.01. Como 0.01 < 0.05, **rejeitamos a Hipótese Nula**.\n",
        "A conclusão é: Existe uma associação estatisticamente significativa entre o departamento onde a pessoa trabalha e sua decisão de sair. (Nota: Isso não diz *qual* departamento sai mais, apenas que a variável 'departamento' *importa*).\""
      ],
      "metadata": {
        "id": "16Xx8OX5V5Kt"
      }
    },
    {
      "cell_type": "markdown",
      "source": [
        "## Conceito 3: ANOVA (Comparar a Média de 3+ Grupos)\n",
        "\n",
        "🧠 **Intuição:**\n",
        "\"O Teste-T compara 2 grupos (Ex: Salário de quem Saiu vs. Ficou). Mas e se quisermos comparar o Salário médio entre 3 ou mais grupos (Ex: Depto. de TI vs. Vendas vs. RH)? Não podemos fazer vários Testes-T (um contra um), pois isso aumenta nossa chance de achar um 'falso positivo'. A ANOVA é o teste correto que compara todos os grupos de uma só vez e nos diz: 'Sim, existe pelo menos um grupo diferente dos demais' ou 'Não, as médias de todos parecem ser iguais'.\"\n",
        "\n",
        "🎓 **Definição Técnica:**\n",
        "A **Análise de Variância (ANOVA)** de um fator (One-Way ANOVA) testa se as médias de duas ou mais populações (grupos) são iguais.\n",
        "* **Hipótese Nula ($H_0$):** Todas as médias são iguais ($\\mu_1 = \\mu_2 = \\mu_3 = ...$).\n",
        "* **Hipótese Alternativa ($H_a$):** Pelo menos uma média é diferente das outras.\n",
        "Ela funciona comparando a variância *entre* os grupos com a variância *dentro* de cada grupo (o F-statistic).\n",
        "\n",
        "⚠️ **Importante:** A ANOVA é um \"teste omnibus\". Ela só diz que \"existe uma diferença\", mas não diz *onde* (Ex: ela não diz se TI é diferente de Vendas). Para descobrir isso, usamos um \"Teste Post-Hoc\" (como o Teste de Tukey) após um resultado significativo.\n",
        "\n",
        "🍳 **Receita:**"
      ],
      "metadata": {
        "id": "5F_WhSbzxKWs"
      }
    },
    {
      "cell_type": "code",
      "source": [
        "from scipy import stats\n",
        "\n",
        "# 1. Preparar os grupos (precisamos de uma lista de arrays/séries)\n",
        "#    (Assumindo que 'departamento' tem 3+ categorias, ex: TI, Vendas, RH)\n",
        "\n",
        "# Criamos uma lista de Séries, uma para cada departamento\n",
        "grupos = []\n",
        "for depto in df['departamento'].unique():\n",
        "    salarios_depto = df[df['departamento'] == depto]['salario'].dropna()\n",
        "    grupos.append(salarios_depto)\n",
        "\n",
        "# Exemplo de como 'grupos' ficaria:\n",
        "# grupos = [\n",
        "#     pd.Series([5000, 6000, 5500]), # Salários de TI\n",
        "#     pd.Series([4000, 4500, 4200]), # Salários de Vendas\n",
        "#     pd.Series([7000, 7100, 6900])  # Salários de RH\n",
        "# ]\n",
        "\n",
        "# 2. Aplicar a ANOVA\n",
        "#    stats.f_oneway() aceita múltiplos arrays como argumentos, usamos *grupos para \"desempacotar\" a lista\n",
        "if len(grupos) > 2:\n",
        "    f_stat, pvalue = stats.f_oneway(*grupos)\n",
        "\n",
        "    print(f\"O P-Value da ANOVA é: {pvalue:.4f}\")\n",
        "\n",
        "    # 3. Interpretar o P-Value\n",
        "    if pvalue < 0.05:\n",
        "        print(\"Conclusão: Existe uma diferença ESTATISTICAMENTE SIGNIFICATIVA no salário médio entre os departamentos.\")\n",
        "    else:\n",
        "        print(\"Conclusão: Não há evidência de diferença salarial entre os departamentos.\")\n",
        "else:\n",
        "    print(\"ANOVA requer 3 ou mais grupos para ser usada no lugar do Teste-T.\")"
      ],
      "metadata": {
        "id": "J5ym7clQ4DMA"
      },
      "execution_count": null,
      "outputs": []
    },
    {
      "cell_type": "markdown",
      "source": [
        "📊 **Resultado:**\n",
        "\"O P-Value da ANOVA foi 0.001. Como 0.001 < 0.05, **rejeitamos a Hipótese Nula**.\n",
        "A conclusão é: A variável 'departamento' tem um impacto estatisticamente significativo no salário médio. O próximo passo (Post-Hoc) seria investigar *quais* departamentos são diferentes entre si.\""
      ],
      "metadata": {
        "id": "XXP0473S4Fry"
      }
    }
  ]
}