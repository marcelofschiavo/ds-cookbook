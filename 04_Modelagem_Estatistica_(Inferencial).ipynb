{
  "nbformat": 4,
  "nbformat_minor": 0,
  "metadata": {
    "colab": {
      "provenance": [],
      "authorship_tag": "ABX9TyOg27N2GytPv2K+Zl3s4u9j",
      "include_colab_link": true
    },
    "kernelspec": {
      "name": "python3",
      "display_name": "Python 3"
    },
    "language_info": {
      "name": "python"
    }
  },
  "cells": [
    {
      "cell_type": "markdown",
      "metadata": {
        "id": "view-in-github",
        "colab_type": "text"
      },
      "source": [
        "<a href=\"https://colab.research.google.com/github/marcelofschiavo/ds-cookbook/blob/main/04_Modelagem_Estatistica_(Inferencial).ipynb\" target=\"_parent\"><img src=\"https://colab.research.google.com/assets/colab-badge.svg\" alt=\"Open In Colab\"/></a>"
      ]
    },
    {
      "cell_type": "code",
      "execution_count": null,
      "metadata": {
        "id": "rFoicJvid6KE"
      },
      "outputs": [],
      "source": [
        "Conceitos: Provar se seus insights são \"reais\".\n",
        "\n",
        "\"Receitas\" (Códigos):\n",
        "\n",
        "Correlação vs. Causalidade (Explicação em Markdown).\n",
        "\n",
        "Teste-T: Como rodar (stats.ttest_ind) e como interpretar o p-value.\n",
        "\n",
        "Teste Qui-Quadrado (Chi-Square): Como rodar (stats.chi2_contingency) e como interpretar (para ver se departamento tem relação com turnover).\n",
        "\n",
        "ANOVA: (Bônus, se quiser) Para comparar 3+ grupos."
      ]
    }
  ]
}