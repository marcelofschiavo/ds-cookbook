{
  "nbformat": 4,
  "nbformat_minor": 0,
  "metadata": {
    "colab": {
      "provenance": [],
      "authorship_tag": "ABX9TyM3tl1Ha4teEHk/zRjF/9pz",
      "include_colab_link": true
    },
    "kernelspec": {
      "name": "python3",
      "display_name": "Python 3"
    },
    "language_info": {
      "name": "python"
    }
  },
  "cells": [
    {
      "cell_type": "markdown",
      "metadata": {
        "id": "view-in-github",
        "colab_type": "text"
      },
      "source": [
        "<a href=\"https://colab.research.google.com/github/marcelofschiavo/ds-cookbook/blob/main/06_ML_Regressao_(Supervisionado).ipynb\" target=\"_parent\"><img src=\"https://colab.research.google.com/assets/colab-badge.svg\" alt=\"Open In Colab\"/></a>"
      ]
    },
    {
      "cell_type": "code",
      "execution_count": null,
      "metadata": {
        "id": "Ub78pVvXeQqG"
      },
      "outputs": [],
      "source": [
        "Conceitos: Prever um número (Salário, Preço).\n",
        "\n",
        "\"Receitas\" (Códigos):\n",
        "\n",
        "Modelo 1: Regressão Linear (LinearRegression).\n",
        "\n",
        "Modelo 2: Random Forest Regressor (RandomForestRegressor).\n",
        "\n",
        "Como avaliar: RMSE (Erro Quadrático Médio) e R² (R-Quadrado)."
      ]
    }
  ]
}