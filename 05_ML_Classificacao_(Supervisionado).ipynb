{
  "nbformat": 4,
  "nbformat_minor": 0,
  "metadata": {
    "colab": {
      "provenance": [],
      "collapsed_sections": [
        "ltSF60Co6vJ4"
      ],
      "authorship_tag": "ABX9TyORGuZSar9by9eEqkKUcGhk",
      "include_colab_link": true
    },
    "kernelspec": {
      "name": "python3",
      "display_name": "Python 3"
    },
    "language_info": {
      "name": "python"
    }
  },
  "cells": [
    {
      "cell_type": "markdown",
      "metadata": {
        "id": "view-in-github",
        "colab_type": "text"
      },
      "source": [
        "<a href=\"https://colab.research.google.com/github/marcelofschiavo/ds-cookbook/blob/main/05_ML_Classificacao_(Supervisionado).ipynb\" target=\"_parent\"><img src=\"https://colab.research.google.com/assets/colab-badge.svg\" alt=\"Open In Colab\"/></a>"
      ]
    },
    {
      "cell_type": "markdown",
      "source": [
        "## 05. Modelagem Preditiva (Classificação)\n",
        "\n",
        "Nos notebooks anteriores, nós *entendemos* o passado (com EDA e Estatística).\n",
        "Agora, vamos *prever* o futuro.\n",
        "\n",
        "**Objetivo:** Criar um modelo de Machine Learning que aprenda com os dados de quem *saiu* e *ficou* para prever, com base em um funcionário novo (ou existente), qual a **probabilidade** dele pedir demissão.\n",
        "\n",
        "**Tipo de Problema:** Classificação Binária (prever uma categoria: \"Sim\" ou \"Não\")."
      ],
      "metadata": {
        "id": "ltSF60Co6vJ4"
      }
    },
    {
      "cell_type": "code",
      "source": [
        "\"\"\"\n",
        "## Setup: Carregar Bibliotecas e Dados\n",
        "\n",
        "Nesta célula, importamos as bibliotecas que usaremos (Pandas e Scikit-learn)\n",
        "e carregamos nosso conjunto de dados limpo do Notebook 01.\n",
        "\"\"\"\n",
        "import pandas as pd\n",
        "import numpy as np\n",
        "import seaborn as sns\n",
        "import matplotlib.pyplot as plt\n",
        "from sklearn.model_selection import train_test_split\n",
        "from sklearn.preprocessing import StandardScaler\n",
        "from sklearn.linear_model import LogisticRegression\n",
        "from sklearn.ensemble import RandomForestClassifier\n",
        "from sklearn.metrics import classification_report, confusion_matrix, ConfusionMatrixDisplay\n",
        "import warnings\n",
        "\n",
        "# Ignorar avisos futuros (apenas para limpar o output)\n",
        "warnings.filterwarnings('ignore')\n",
        "\n",
        "# --- Carregue seus dados aqui ---\n",
        "# (Substitua 'dados_empresa_limpos.csv' pelo nome do seu arquivo)\n",
        "try:\n",
        "    df = pd.read_csv('dados_empresa_limpos.csv')\n",
        "    print(\"DataFrame 'df' carregado com sucesso!\")\n",
        "    print(f\"Total de {df.shape[0]} linhas e {df.shape[1]} colunas.\")\n",
        "\n",
        "except FileNotFoundError:\n",
        "    print(\"------------------------------------------------------------------\")\n",
        "    print(\">>> ERRO: Arquivo 'dados_empresa_limpos.csv' não encontrado. <<<\")\n",
        "    print(\"... Criando um DataFrame de EXEMPLO para o resto do notebook não quebrar.\")\n",
        "    print(\"------------------------------------------------------------------\")\n",
        "\n",
        "    # Criar um 'df' de exemplo para classificação\n",
        "    data = {\n",
        "        'salario': np.random.randint(3000, 15000, 500),\n",
        "        'satisfacao': np.random.rand(500).round(2),\n",
        "        'tempo_empresa': np.random.randint(1, 10, 500),\n",
        "        'departamento': np.random.choice(['TI', 'Vendas', 'RH'], 500),\n",
        "        'pediu_demissao': np.random.choice([0, 1], 500, p=[0.85, 0.15]) # 15% de turnover\n",
        "    }\n",
        "    df = pd.DataFrame(data)\n",
        "    print(\"DataFrame de exemplo carregado.\")\n",
        "\n",
        "print(\"\\nAmostra dos dados:\")\n",
        "print(df.head())"
      ],
      "metadata": {
        "id": "S5VACGFJ4o01"
      },
      "execution_count": null,
      "outputs": []
    },
    {
      "cell_type": "markdown",
      "source": [
        "## Conceito 1: Preparação (Separar X/y e One-Hot Encoding)\n",
        "\n",
        "🧠 **Intuição:**\n",
        "\"Modelos de ML são ótimos em matemática, mas péssimos em ler texto. Não podemos dar a ele a coluna 'departamento' com 'TI' ou 'Vendas'. Precisamos 'traduzir':\n",
        "1.  **Separar:** Dizemos ao modelo o que ele precisa prever (o 'y': `pediu_demissao`) e quais 'pistas' ele pode usar (o 'X': todas as outras colunas).\n",
        "2.  **Traduzir:** Transformamos 'departamento' em colunas numéricas, como 'departamento_TI' (1 se sim, 0 se não) e 'departamento_Vendas' (1 se sim, 0 se não).\"\n",
        "\n",
        "🎓 **Definição Técnica:**\n",
        "Realizamos duas operações:\n",
        "1.  **Separação de Features e Target:** `y` é o vetor-alvo (variável dependente, `pediu_demissao`) e `X` é a matriz de features (variáveis independentes, preditores).\n",
        "2.  **One-Hot Encoding:** Usamos `pd.get_dummies()` para converter variáveis categóricas nominais (como `departamento`) em N colunas binárias, onde N é o número de categorias únicas. Isso evita que o modelo assuma uma ordem incorreta (ex: que TI < Vendas < RH).\n",
        "\n",
        "🍳 **Receita:**"
      ],
      "metadata": {
        "id": "nTs2bg5HveMx"
      }
    },
    {
      "cell_type": "code",
      "source": [
        "# 1. Definir X (features) e y (target)\n",
        "#    (Assumindo que 'pediu_demissao' é 1 para Sim e 0 para Não)\n",
        "y = df['pediu_demissao']\n",
        "X = df.drop('pediu_demissao', axis=1) # Usar todas as outras colunas como features\n",
        "\n",
        "# 2. One-Hot Encoding (Converter categorias em números)\n",
        "#    O 'drop_first=True' evita redundância e multicolinearidade\n",
        "X_encoded = pd.get_dummies(X, drop_first=True, dtype=int)\n",
        "\n",
        "print(\"--- Target (y) ---\")\n",
        "print(y.head())\n",
        "print(\"\\n--- Features (X_encoded) ---\")\n",
        "print(X_encoded.head())"
      ],
      "metadata": {
        "id": "JHAizSXovfp7"
      },
      "execution_count": null,
      "outputs": []
    },
    {
      "cell_type": "markdown",
      "source": [
        "📊 **Resultado:**\n",
        "\"Agora temos 'y' (uma Série só com 0s e 1s) e 'X_encoded' (um DataFrame só com números, pronto para o modelo).\""
      ],
      "metadata": {
        "id": "e1Q0QSfI48x8"
      }
    },
    {
      "cell_type": "markdown",
      "source": [
        "## Conceito 2: Divisão de Treino e Teste (train_test_split)\n",
        "\n",
        "🧠 **Intuição:**\n",
        "\"Nunca podemos testar um aluno usando a mesma prova que ele usou para estudar. Ele iria 'decorar' as respostas, não 'aprender' o conceito.\n",
        "Com ML é igual. Nós dividimos nosso 'baralho' de dados:\n",
        "* **70% para Treino:** As 'aulas' e 'exercícios' que o modelo usa para aprender os padrões.\n",
        "* **30% para Teste:** A 'prova final'. Dados que o modelo *nunca viu*, usados para ver se ele realmente aprendeu a generalizar.\"\n",
        "\n",
        "🎓 **Definição Técnica:**\n",
        "Particionamos os dados (X e y) em conjuntos de treino e teste. Isso é vital para avaliar a capacidade de **generalização** do modelo em dados \"novos\" (out-of-sample).\n",
        "* `test_size=0.3`: Reserva 30% dos dados para o teste.\n",
        "* `random_state=42`: Garante a **reprodutibilidade**. A divisão será sempre a mesma, não importa quantas vezes rodarmos.\n",
        "* `stratify=y`: **CRUCIAL** em classificação desbalanceada (como turnover). Garante que a proporção de 'Sim' e 'Não' (ex: 15% de 'Sim') seja a mesma tanto no conjunto de treino quanto no de teste.\n",
        "\n",
        "🍳 **Receita:**"
      ],
      "metadata": {
        "id": "6D0H8bN6vhX9"
      }
    },
    {
      "cell_type": "code",
      "source": [
        "from sklearn.model_selection import train_test_split\n",
        "\n",
        "X_train, X_test, y_train, y_test = train_test_split(\n",
        "    X_encoded, y,\n",
        "    test_size=0.30,\n",
        "    random_state=42,\n",
        "    stratify=y  # Essencial para garantir proporções iguais de 'y' no treino/teste\n",
        ")\n",
        "print(f\"Shape de X_train: {X_train.shape}\")\n",
        "print(f\"Shape de X_test:  {X_test.shape}\")\n",
        "print(\"-\" * 20)\n",
        "print(f\"Proporção de 'Sair' no Treino: {y_train.mean():.2%}\")\n",
        "print(f\"Proporção de 'Sair' no Teste:  {y_test.mean():.2%}\")"
      ],
      "metadata": {
        "id": "Assv2V-QvmT0"
      },
      "execution_count": null,
      "outputs": []
    },
    {
      "cell_type": "markdown",
      "source": [
        "📊 **Resultado:**\n",
        "\"Nossos dados estão divididos. O modelo treinará com as amostras de 'treino' e será avaliado com as amostras de 'teste'.\""
      ],
      "metadata": {
        "id": "btEwwBwB5LAy"
      }
    },
    {
      "cell_type": "markdown",
      "source": [
        "## Conceito 3: Feature Scaling (StandardScaler) - (Opcional, mas recomendado)\n",
        "\n",
        "🧠 **Intuição:**\n",
        "\"Alguns modelos (como a Regressão Logística) são 'enganados' por escalas diferentes. A coluna 'salario' (Ex: 3000 a 15000) parece *milhares* de vezes mais importante que 'satisfacao' (Ex: 0 a 1), mesmo que não seja.\n",
        "O 'Scaler' age como um 'equalizador': ele coloca todas as features na mesma régua (média 0, desvio padrão 1), garantindo uma comparação justa.\"\n",
        "\n",
        "🎓 **Definição Técnica:**\n",
        "A Padronização (Standardization) transforma os dados para que tenham média 0 e desvio padrão 1 (Z-score). É crucial para algoritmos sensíveis à escala (Regressão Logística, SVMs, KNN, Redes Neurais).\n",
        "**IMPORTANTE (Evitar Data Leakage):** O scaler deve ser treinado (`.fit()`) **APENAS** nos dados de treino (`X_train`) e depois usado para transformar (`.transform()`) ambos (`X_train` e `X_test`).\n",
        "\n",
        "🍳 **Receita:**"
      ],
      "metadata": {
        "id": "SInHP-Qbvm6c"
      }
    },
    {
      "cell_type": "code",
      "source": [
        "from sklearn.preprocessing import StandardScaler\n",
        "\n",
        "# 1. Criar o Scaler\n",
        "scaler = StandardScaler()\n",
        "\n",
        "# 2. Treinar (fit) o scaler APENAS no X_train\n",
        "scaler.fit(X_train)\n",
        "\n",
        "# 3. Aplicar (transform) o scaler em ambos os conjuntos\n",
        "X_train_scaled = scaler.transform(X_train)\n",
        "X_test_scaled = scaler.transform(X_test)\n",
        "\n",
        "print(f\"Média de X_train (antes): {X_train['salario'].mean():.2f}\")\n",
        "print(f\"Média de X_train_scaled (depois): {X_train_scaled[:, 0].mean():.2f}\") # Pega a primeira coluna\n",
        "print(f\"Desvio Padrão de X_train_scaled (depois): {X_train_scaled[:, 0].std():.2f}\")"
      ],
      "metadata": {
        "id": "BxI3dVd25TIu"
      },
      "execution_count": null,
      "outputs": []
    },
    {
      "cell_type": "markdown",
      "source": [
        "📊 **Resultado:**\n",
        "\"Os dados de treino e teste agora estão escalados. Note como a média de 'X_train_scaled' é ~0 e o desvio padrão é ~1.\""
      ],
      "metadata": {
        "id": "BPBW2Xor5YAs"
      }
    },
    {
      "cell_type": "markdown",
      "source": [
        "## Conceito 4: Modelo 1 - Regressão Logística (O Baseline)\n",
        "\n",
        "🧠 **Intuição:**\n",
        "\"É o modelo 'baseline', o mais simples e rápido. Ele acha a melhor 'linha' (ou curva sigmóide) que separa os 'Sim' dos 'Não'. É ótimo para ter um resultado rápido e para ser um ponto de partida (se um modelo complexo não for muito melhor que esse, talvez não valha a pena usá-lo).\"\n",
        "\n",
        "🎓 **Definição Técnica:**\n",
        "A Regressão Logística é um modelo linear generalizado usado para classificação binária. Ele modela a *probabilidade* de uma classe (P(y=1)) usando a função logística (sigmóide).\n",
        "* `class_weight='balanced'`: Ajusta os pesos do modelo para dar mais importância à classe minoritária (no nosso caso, 'pediu_demissao'=1), o que é vital para dados desbalanceados.\n",
        "\n",
        "🍳 **Receita:**"
      ],
      "metadata": {
        "id": "yspXKw0B5aGA"
      }
    },
    {
      "cell_type": "code",
      "source": [
        "from sklearn.linear_model import LogisticRegression\n",
        "\n",
        "# 1. Criar o modelo\n",
        "#    Usamos 'class_weight='balanced'' para o modelo dar mais importância\n",
        "#    aos casos de 'Sim' (turnover), que geralmente são minoria.\n",
        "log_reg = LogisticRegression(random_state=42, class_weight='balanced')\n",
        "\n",
        "# 2. Treinar o modelo (usando dados ESCALADOS)\n",
        "log_reg.fit(X_train_scaled, y_train)\n",
        "\n",
        "# 3. Fazer previsões (nos dados de teste ESCALADOS)\n",
        "y_pred_log_reg = log_reg.predict(X_test_scaled)\n",
        "\n",
        "print(\"Previsões da Regressão Logística (primeiros 10):\")\n",
        "print(y_pred_log_reg[:10])"
      ],
      "metadata": {
        "id": "UCJtl-FA5el2"
      },
      "execution_count": null,
      "outputs": []
    },
    {
      "cell_type": "markdown",
      "source": [
        "📊 **Resultado:**\n",
        "\"Modelo treinado. As previsões estão na variável 'y_pred_log_reg'. Vamos avaliá-las no próximo passo.\""
      ],
      "metadata": {
        "id": "cJQow3ta5jHB"
      }
    },
    {
      "cell_type": "markdown",
      "source": [
        "## Conceito 5: Modelo 2 - Random Forest (O \"Cavalo de Batalha\")\n",
        "\n",
        "🧠 **Intuição:**\n",
        "\"É o 'cavalo de batalha' do ML. Em vez de uma pessoa tentando decidir, ele pergunta a 100 'especialistas' (Árvores de Decisão) e faz uma *votação* entre elas. Cada 'especialista' vê o problema de um ângulo um pouco diferente. O resultado da 'votação' é muito mais robusto e preciso.\n",
        "**Bônus:** Modelos de árvore não se importam com a escala dos dados (não precisam do Scaler).\"\n",
        "\n",
        "🎓 **Definição Técnica:**\n",
        "O Random Forest é um método *ensemble* de *bagging*. Ele constrói múltiplas árvores de decisão em tempo de treino, cada uma em uma sub-amostra aleatória dos dados (bootstrap). A previsão final é a *moda* (votação) das previsões de todas as árvores. É robusto a overfitting e captura relações não-lineares complexas.\n",
        "\n",
        "🍳 **Receita:**"
      ],
      "metadata": {
        "id": "27SyQv535m0A"
      }
    },
    {
      "cell_type": "code",
      "source": [
        "from sklearn.ensemble import RandomForestClassifier\n",
        "\n",
        "# 1. Criar o modelo\n",
        "rf_model = RandomForestClassifier(\n",
        "    n_estimators=100,  # Quantidade de árvores na \"floresta\"\n",
        "    random_state=42,\n",
        "    class_weight='balanced',\n",
        "    n_jobs=-1          # Usar todos os processadores\n",
        ")\n",
        "\n",
        "# 2. Treinar o modelo (usando dados ORIGINAIS, não escalados)\n",
        "rf_model.fit(X_train, y_train)\n",
        "\n",
        "# 3. Fazer previsões (nos dados de teste ORIGINAIS)\n",
        "y_pred_rf = rf_model.predict(X_test)\n",
        "print(\"Previsões do Random Forest (primeiros 10):\")\n",
        "print(y_pred_rf[:10])"
      ],
      "metadata": {
        "id": "OVNDOlGH5nwV"
      },
      "execution_count": null,
      "outputs": []
    },
    {
      "cell_type": "markdown",
      "source": [
        "📊 **Resultado:**\n",
        "\"Modelo treinado. As previsões estão na variável 'y_pred_rf'. Agora vamos comparar os dois modelos.\""
      ],
      "metadata": {
        "id": "Esgu96e95xG7"
      }
    },
    {
      "cell_type": "markdown",
      "source": [
        "## Conceito 6: Avaliação (Classification Report & Confusion Matrix)\n",
        "\n",
        "🧠 **Intuição:**\n",
        "\"Em turnover, 'Acurácia' (acertos totais) é inútil. Um modelo que chuta 'Fica' para todos acerta 90% das vezes (se 10% saem), mas não serve para nada. Precisamos focar nas métricas certas:\n",
        "* **Recall (para classe 1 'Sair'):** 'De todas as pessoas que *realmente* vão sair, quantas o nosso modelo conseguiu *pegar*?' (Esta é a métrica-chave para o RH!).\n",
        "* **Precisão (para classe 1 'Sair'):** 'De todos que o modelo *acusou* que iam sair, quantos realmente saíram?' (Importante para não gastar recursos de retenção com quem ia ficar).\"\n",
        "\n",
        "A **Matriz de Confusão** é o 'raio-X' dos erros. O pior erro é o **Falso Negativo**: a pessoa *vai sair* (Real=1) e o modelo previu que ela ia *ficar* (Previsto=0).\"\n",
        "\n",
        "🎓 **Definição Técnica:**\n",
        "* **`classification_report`**: Fornece um resumo das principais métricas (Precisão, Recall, F1-Score) por classe. O F1-Score é a média harmônica de Precisão e Recall, útil como métrica única.\n",
        "* **`confusion_matrix`**: Uma tabela que resume o desempenho:\n",
        "    * **TN (Topo Esquerdo):** Previu '0', Real '0'.\n",
        "    * **FP (Topo Direita):** Previu '1', Real '0'. (Erro Tipo I)\n",
        "    * **FN (Baixo Esquerda):** Previu '0', Real '1'. (Erro Tipo II - O mais crítico!)\n",
        "    * **TP (Baixo Direita):** Previu '1', Real '1'.\n",
        "\n",
        "🍳 **Receita:**"
      ],
      "metadata": {
        "id": "1OMCZU_k51MV"
      }
    },
    {
      "cell_type": "code",
      "source": [
        "from sklearn.metrics import classification_report, confusion_matrix, ConfusionMatrixDisplay\n",
        "\n",
        "# Vamos avaliar o Random Forest (y_pred_rf), que geralmente é melhor.\n",
        "print(\"--- Classification Report (Random Forest) ---\")\n",
        "# 'target_names' deixa o relatório mais legível\n",
        "print(classification_report(y_test, y_pred_rf, target_names=['Ficou (0)', 'Saiu (1)']))\n",
        "\n",
        "\n",
        "# --- Matriz de Confusão ---\n",
        "print(\"\\n--- Matriz de Confusão (Random Forest) ---\")\n",
        "cm = confusion_matrix(y_test, y_pred_rf)\n",
        "\n",
        "# Plotar a matriz\n",
        "disp = ConfusionMatrixDisplay(confusion_matrix=cm, display_labels=['Ficou (0)', 'Saiu (1)'])\n",
        "disp.plot(cmap='Blues', values_format='d') # 'd' = formato decimal\n",
        "plt.title('Matriz de Confusão')\n",
        "plt.show()"
      ],
      "metadata": {
        "id": "HiBqdfA559FZ"
      },
      "execution_count": null,
      "outputs": []
    },
    {
      "cell_type": "markdown",
      "source": [
        "📊 **Resultado:**\n",
        "\"No Classification Report, olhe para a linha 'Saiu (1)'. Um **Recall de 0.70** significaria que estamos 'pegando' 70% das pessoas que realmente vão pedir demissão.\n",
        "Na Matriz de Confusão, o número no canto **inferior esquerdo** são os Falsos Negativos (as pessoas que perdemos). Nosso objetivo é minimizar esse número.\""
      ],
      "metadata": {
        "id": "HVDDLBB26CIv"
      }
    },
    {
      "cell_type": "markdown",
      "source": [
        "## Conceito 7: Interpretação (Feature Importance)\n",
        "\n",
        "🧠 **Intuição:**\n",
        "\"OK, o modelo do Random Forest é uma 'caixa-preta' que acerta bastante. Mas *por quê*? Ele não pode simplesmente dizer 'prevejo que ele vai sair' sem uma explicação.\n",
        "A 'Importância das Features' nos diz quais 'pistas' (colunas) o modelo mais usou para tomar suas decisões. Ele nos diz o 'O Quê' do porquê (Ex: 'Salário' é o mais importante), dando um foco de ação para o RH.\"\n",
        "\n",
        "🎓 **Definição Técnica:**\n",
        "Em modelos de árvore (como o Random Forest), podemos extrair o `feature_importances_`. Esta é uma medida (geralmente *Gini importance*) que calcula o quanto cada feature contribuiu, em média, para a redução da impureza (ou aumento da 'pureza' dos nós) ao longo de todas asárvores da floresta.\n",
        "\n",
        "🍳 **Receita:**"
      ],
      "metadata": {
        "id": "fSscBdzV6Hho"
      }
    },
    {
      "cell_type": "code",
      "source": [
        "import seaborn as sns\n",
        "\n",
        "# 1. Pegar as importâncias do modelo treinado\n",
        "importances = rf_model.feature_importances_\n",
        "\n",
        "# 2. Criar um DataFrame para visualização\n",
        "#    Usamos X_encoded.columns para pegar os nomes das features\n",
        "feature_importance_df = pd.DataFrame({\n",
        "    'Feature': X_encoded.columns,\n",
        "    'Importance': importances\n",
        "}).sort_values(by='Importance', ascending=False)\n",
        "\n",
        "# 3. Plotar as 10 mais importantes\n",
        "plt.figure(figsize=(10, 6))\n",
        "sns.barplot(\n",
        "    x='Importance',\n",
        "    y='Feature',\n",
        "    data=feature_importance_df.head(10),\n",
        "    palette='viridis'\n",
        ")\n",
        "plt.title('Top 10 Features Mais Importantes (Random Forest)')\n",
        "plt.xlabel('Importância')\n",
        "plt.ylabel('Feature')\n",
        "plt.show()"
      ],
      "metadata": {
        "id": "m9FcEzMw6NTR"
      },
      "execution_count": null,
      "outputs": []
    },
    {
      "cell_type": "markdown",
      "source": [
        "📊 **Resultado:**\n",
        "\"O gráfico confirma visualmente quais são os principais *drivers* do turnover. Se 'satisfacao', 'salario' e 'tempo_empresa' estão no topo, isso valida nossas suspeitas da EDA e da Estatística, e dá ao RH um foco claro de atuação para políticas de retenção.\""
      ],
      "metadata": {
        "id": "zTpV1Pid6SFi"
      }
    }
  ]
}