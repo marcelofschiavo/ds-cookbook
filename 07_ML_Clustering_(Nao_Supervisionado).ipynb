{
  "nbformat": 4,
  "nbformat_minor": 0,
  "metadata": {
    "colab": {
      "provenance": [],
      "authorship_tag": "ABX9TyP21sXXh1M8k8C7B40NzigU",
      "include_colab_link": true
    },
    "kernelspec": {
      "name": "python3",
      "display_name": "Python 3"
    },
    "language_info": {
      "name": "python"
    }
  },
  "cells": [
    {
      "cell_type": "markdown",
      "metadata": {
        "id": "view-in-github",
        "colab_type": "text"
      },
      "source": [
        "<a href=\"https://colab.research.google.com/github/marcelofschiavo/ds-cookbook/blob/main/07_ML_Clustering_(Nao_Supervisionado).ipynb\" target=\"_parent\"><img src=\"https://colab.research.google.com/assets/colab-badge.svg\" alt=\"Open In Colab\"/></a>"
      ]
    },
    {
      "cell_type": "markdown",
      "source": [
        "## 07. Aprendizado Não Supervisionado (Clustering)\n",
        "\n",
        "Nos notebooks 05 e 06 (Supervisionados), nós tínhamos um 'gabarito' (a coluna 'y', como 'pediu_demissao' ou 'salario') e o modelo aprendia a prever esse gabarito.\n",
        "\n",
        "Aqui, no Não Supervisionado, **não temos gabarito**.\n",
        "Nosso objetivo é dar os dados \"bagunçados\" ao modelo e pedir: \"Encontre grupos naturais aqui\".\n",
        "\n",
        "**Objetivo:** Segmentar os funcionários em \"Personas\" distintas (grupos) com base em seus comportamentos e atributos (Ex: 'Salário', 'Satisfação', 'Tempo de Empresa'), para que o RH possa criar ações de engajamento direcionadas.\n",
        "\n",
        "**Tipo de Problema:** Clustering (Agrupamento)."
      ],
      "metadata": {
        "id": "jaOY2Haa-hcS"
      }
    },
    {
      "cell_type": "code",
      "source": [
        "\"\"\"\n",
        "## Setup: Carregar Bibliotecas e Dados\n",
        "\n",
        "Nesta célula, importamos as bibliotecas que usaremos (Pandas e Scikit-learn).\n",
        "O 'KMeans' e 'silhouette_score' são novos aqui.\n",
        "\"\"\"\n",
        "import pandas as pd\n",
        "import numpy as np\n",
        "import seaborn as sns\n",
        "import matplotlib.pyplot as plt\n",
        "from sklearn.preprocessing import StandardScaler\n",
        "from sklearn.cluster import KMeans\n",
        "from sklearn.metrics import silhouette_score # Métrica de avaliação de cluster\n",
        "import warnings\n",
        "\n",
        "# Ignorar avisos futuros (apenas para limpar o output)\n",
        "warnings.filterwarnings('ignore')\n",
        "\n",
        "# --- Carregue seus dados aqui ---\n",
        "# (Substitua 'dados_empresa_limpos.csv' pelo nome do seu arquivo)\n",
        "try:\n",
        "    df = pd.read_csv('dados_empresa_limpos.csv')\n",
        "    print(\"DataFrame 'df' carregado com sucesso!\")\n",
        "    print(f\"Total de {df.shape[0]} linhas e {df.shape[1]} colunas.\")\n",
        "\n",
        "except FileNotFoundError:\n",
        "    print(\"------------------------------------------------------------------\")\n",
        "    print(\">>> ERRO: Arquivo 'dados_empresa_limpos.csv' não encontrado. <<<\")\n",
        "    print(\"... Criando um DataFrame de EXEMPLO para o resto do notebook não quebrar.\")\n",
        "    print(\"------------------------------------------------------------------\")\n",
        "\n",
        "    # Criar um 'df' de exemplo para clustering\n",
        "    data = {\n",
        "        'salario': np.random.randint(3000, 15000, 500),\n",
        "        'satisfacao': np.random.rand(500).round(2),\n",
        "        'tempo_empresa': np.random.randint(1, 10, 500),\n",
        "        'avaliacao_performance': np.random.rand(500).round(2),\n",
        "        'departamento': np.random.choice(['TI', 'Vendas', 'RH'], 500),\n",
        "        'pediu_demissao': np.random.choice([0, 1], 500, p=[0.85, 0.15])\n",
        "    }\n",
        "    df = pd.DataFrame(data)\n",
        "    print(\"DataFrame de exemplo carregado.\")\n",
        "\n",
        "print(\"\\nAmostra dos dados:\")\n",
        "print(df.head())"
      ],
      "metadata": {
        "id": "sXWtkoRN-mAI"
      },
      "execution_count": null,
      "outputs": []
    },
    {
      "cell_type": "markdown",
      "source": [
        "## Conceito 1: Preparação (Escolha das Features e Scaling)\n",
        "\n",
        "🧠 **Intuição:**\n",
        "\"Primeiro, escolhemos os 'ingredientes' das nossas personas. O que define um funcionário? Vamos usar `salario`, `satisfacao` e `tempo_empresa`.\n",
        "Segundo (e **CRÍTICO**): o K-Means (nosso modelo) funciona medindo *distância*. Para ele, uma variação de R$ 1000 no salário parece *infinitamente* maior que uma variação de 0.1 na satisfação.\n",
        "Precisamos 'equalizar' (padronizar) todas as colunas, colocando-as na mesma régua, para que o modelo as trate com pesos justos.\"\n",
        "\n",
        "🎓 **Definição Técnica:**\n",
        "1.  **Seleção de Features:** Escolhemos as variáveis quantitativas que farão sentido para a segmentação.\n",
        "2.  **One-Hot Encoding:** Se quisermos usar `departamento`, precisamos transformá-lo em números (dummies) como antes.\n",
        "3.  **Padronização (StandardScaler):** O K-Means usa Distância Euclidiana, sendo, portanto, *altamente sensível* à escala das features. A padronização (média 0, desvio 1) é **obrigatória** para que features com escalas maiores (como 'salario') não dominem o algoritmo.\n",
        "\n",
        "🍳 **Receita:**"
      ],
      "metadata": {
        "id": "E42bA9OU-oUS"
      }
    },
    {
      "cell_type": "code",
      "source": [
        "from sklearn.preprocessing import StandardScaler\n",
        "\n",
        "# 1. Selecionar as features que definem as personas\n",
        "features_para_cluster = [\n",
        "    'salario',\n",
        "    'satisfacao',\n",
        "    'tempo_empresa',\n",
        "    'avaliacao_performance'\n",
        "]\n",
        "# Vamos adicionar 'departamento' também, para mostrar o encoding\n",
        "df_cluster = pd.get_dummies(df[features_para_cluster + ['departamento']], drop_first=True, dtype=int)\n",
        "\n",
        "\n",
        "# 2. Padronizar TODAS as features (StandardScaler)\n",
        "scaler = StandardScaler()\n",
        "X_scaled = scaler.fit_transform(df_cluster)\n",
        "\n",
        "print(\"Shape dos dados escalados:\", X_scaled.shape)\n",
        "print(\"\\nAmostra dos dados escalados (primeiras 5 linhas):\")\n",
        "print(X_scaled[:5])"
      ],
      "metadata": {
        "id": "PLYoTyii-vvW"
      },
      "execution_count": null,
      "outputs": []
    },
    {
      "cell_type": "markdown",
      "source": [
        "📊 **Resultado:**\n",
        "\"Temos uma matriz 'X_scaled' (um array NumPy) onde todas as colunas têm média ~0 e desvio padrão 1, prontas para o K-Means.\""
      ],
      "metadata": {
        "id": "6Y6fyPJ7-j5Y"
      }
    },
    {
      "cell_type": "markdown",
      "source": [
        "## Conceito 2: Encontrando o 'K' (Elbow Method / Método do Cotovelo)\n",
        "\n",
        "🧠 **Intuição:**\n",
        "\"Qual o número ideal de 'Personas' (clusters)? 2? 3? 5?\n",
        "O 'Método do Cotovelo' é um teste para nos ajudar a decidir. Ele roda o algoritmo várias vezes (com K=1, K=2, K=3, ...) e mede o 'erro' (inércia) de cada um.\n",
        "Nós plotamos esse erro. No começo, o erro cai *muito* (passar de 1 para 2 grupos ajuda). Mas em certo ponto, adicionar mais grupos não ajuda tanto. Esse ponto de 'retorno decrescente' é o 'cotovelo' (Elbow) e é um ótimo candidato para K.\"\n",
        "\n",
        "🎓 **Definição Técnica:**\n",
        "O **Elbow Method** é uma heurística para encontrar o número ótimo de clusters (K). Ele plota a **Inércia** (ou WCSS - Within-Cluster Sum of Squares) em função do número de clusters (K). A Inércia é a soma das distâncias ao quadrado de cada ponto até o centro do seu cluster. Procuramos o \"cotovelo\" (joelho) da curva, que é o ponto onde o WCSS começa a diminuir mais lentamente.\n",
        "\n",
        "🍳 **Receita:**"
      ],
      "metadata": {
        "id": "wzUoSxQo-5QC"
      }
    },
    {
      "cell_type": "code",
      "source": [
        "from sklearn.cluster import KMeans\n",
        "\n",
        "inertia_list = []\n",
        "K_range = range(1, 11) # Vamos testar de 1 a 10 clusters\n",
        "\n",
        "for k in K_range:\n",
        "    kmeans = KMeans(\n",
        "        n_clusters=k,\n",
        "        init='k-means++', # Método inteligente para espalhar os centros iniciais\n",
        "        random_state=42,\n",
        "        n_init=10 # Rodar 10x com centros diferentes e pegar o melhor\n",
        "    )\n",
        "    kmeans.fit(X_scaled)\n",
        "    inertia_list.append(kmeans.inertia_) # 'inertia_' é o WCSS\n",
        "\n",
        "# Plotar o gráfico do cotovelo\n",
        "plt.figure(figsize=(8, 5))\n",
        "plt.plot(K_range, inertia_list, 'bx-') # 'bx-' = linha azul com marcadores 'x'\n",
        "plt.xlabel('Número de Clusters (K)')\n",
        "plt.ylabel('Inércia (WCSS)')\n",
        "plt.title('Método do Cotovelo (Elbow Method)')\n",
        "plt.grid(True)\n",
        "plt.show()"
      ],
      "metadata": {
        "id": "pL5_zxGe-8pS"
      },
      "execution_count": null,
      "outputs": []
    },
    {
      "cell_type": "markdown",
      "source": [
        "📊 **Resultado:**\n",
        "\"Olhe o gráfico. Onde a 'queda' para de ser íngreme e vira um 'cotovelo'? Geralmente é em K=3, K=4 ou K=5. Vamos supor que o cotovelo mais claro foi em **K=4**. Vamos usar K=4 para o nosso modelo final.\""
      ],
      "metadata": {
        "id": "7xRgVJim-_MU"
      }
    },
    {
      "cell_type": "markdown",
      "source": [
        "## Conceito 3: Treinando o Modelo Final (K-Means)\n",
        "\n",
        "🧠 **Intuição:**\n",
        "\"Agora que escolhemos nosso K (ex: K=4) no Método do Cotovelo, rodamos o K-Means uma última vez.\n",
        "O algoritmo faz o seguinte:\n",
        "1. Joga 4 'ímãs' (centroides) aleatórios nos nossos dados.\n",
        "2. Cada ponto de dado é 'puxado' para o ímã mais próximo.\n",
        "3. O 'ímã' se move para o centro dos pontos que ele puxou.\n",
        "4. Repete (2 e 3) até que os grupos não mudem mais.\n",
        "No final, temos nossos 4 grupos (clusters) formados.\"\n",
        "\n",
        "🎓 **Definição Técnica:**\n",
        "Instanciamos e treinamos (com `.fit()`) o modelo K-Means usando o número de clusters (K) escolhido. O `n_init=10` é importante: ele roda o algoritmo 10 vezes com posições iniciais diferentes e escolhe a melhor (menor inércia), evitando cair em um \"ótimo local\" ruim. Após o `.fit()`, os rótulos dos clusters (0, 1, 2, 3) estarão disponíveis em `kmeans.labels_`.\n",
        "\n",
        "🍳 **Receita:**"
      ],
      "metadata": {
        "id": "IHH1TfkG_ALs"
      }
    },
    {
      "cell_type": "code",
      "source": [
        "# Vamos definir o K escolhido (ex: 4)\n",
        "K_ESCOLHIDO = 4\n",
        "\n",
        "# 1. Criar o modelo final\n",
        "kmeans_final = KMeans(\n",
        "    n_clusters=K_ESCOLHIDO,\n",
        "    init='k-means++',\n",
        "    random_state=42,\n",
        "    n_init=10\n",
        ")\n",
        "\n",
        "# 2. Treinar e obter os rótulos (labels)\n",
        "cluster_labels = kmeans_final.fit_predict(X_scaled)\n",
        "\n",
        "# 3. Adicionar os rótulos de volta ao DataFrame *original*\n",
        "#    Isso é vital para a interpretação!\n",
        "df_original_com_clusters = df.copy()\n",
        "df_original_com_clusters['Cluster'] = cluster_labels\n",
        "\n",
        "print(f\"Contagem de pessoas em cada Cluster (K={K_ESCOLHIDO}):\")\n",
        "print(df_original_com_clusters['Cluster'].value_counts().sort_index())\n",
        "print(\"\\nAmostra do DataFrame com Clusters:\")\n",
        "print(df_original_com_clusters.head())"
      ],
      "metadata": {
        "id": "4A4iMF6e_Ff4"
      },
      "execution_count": null,
      "outputs": []
    },
    {
      "cell_type": "markdown",
      "source": [
        "📊 **Resultado:**\n",
        "\"Nosso DataFrame original agora tem uma nova coluna 'Cluster' (com valores de 0 a 3), dizendo a qual persona cada funcionário pertence.\""
      ],
      "metadata": {
        "id": "uvlqhS2S_IOb"
      }
    },
    {
      "cell_type": "markdown",
      "source": [
        "## Conceito 4: Avaliação (Silhouette Score)\n",
        "\n",
        "🧠 **Intuição:**\n",
        "\"O 'cotovelo' foi meio subjetivo. Será que K=4 foi *realmente* bom?\n",
        "O 'Silhouette Score' é uma nota de -1 a +1 que nos diz o quão bons são os clusters.\n",
        "* **+1:** Perfeito! Clusters são densos (pontos próximos) e muito bem separados (longe uns dos outros).\n",
        "* **0:** Ruim. Clusters estão sobrepostos, os grupos não são claros.\n",
        "* **-1:** Péssimo. Os pontos foram parar no cluster errado.\n",
        "Queremos o valor mais próximo de +1 possível.\"\n",
        "\n",
        "🎓 **Definição Técnica:**\n",
        "O Coeficiente de Silhueta (`silhouette_score`) mede a qualidade do clustering. Ele calcula para cada ponto:\n",
        "a) A distância média para os pontos no *mesmo* cluster (coesão).\n",
        "b) A distância média para os pontos no cluster *mais próximo* (separação).\n",
        "O score é $(b - a) / max(a, b)$. Um 'a' pequeno e um 'b' grande (score perto de 1) é o ideal.\n",
        "\n",
        "🍳 **Receita:**"
      ],
      "metadata": {
        "id": "kAcqhE_g_JDC"
      }
    },
    {
      "cell_type": "code",
      "source": [
        "from sklearn.metrics import silhouette_score\n",
        "\n",
        "# Usamos os dados ESCALADOS e os rótulos (labels) que o K-Means gerou\n",
        "score = silhouette_score(X_scaled, cluster_labels)\n",
        "print(f\"O Silhouette Score para K={K_ESCOLHIDO} foi de: {score:.4f}\")"
      ],
      "metadata": {
        "id": "NUs5k9hg_Mx9"
      },
      "execution_count": null,
      "outputs": []
    },
    {
      "cell_type": "markdown",
      "source": [
        "📊 **Resultado:**\n",
        "\"Um score de 0.5 a 0.7 é considerado um clustering forte. Um score de 0.2 a 0.4 é razoável/fraco. Abaixo de 0.2, os clusters não são bem definidos.\""
      ],
      "metadata": {
        "id": "2uk-goWF_RQW"
      }
    },
    {
      "cell_type": "markdown",
      "source": [
        "## Conceito 5: Interpretação (Criando as Personas)\n",
        "\n",
        "🧠 **Intuição:**\n",
        "\"Esta é a parte mais importante. O modelo nos deu 'Cluster 0', 'Cluster 1', 'Cluster 2', 'Cluster 3'. E daí? Isso não diz nada para o RH.\n",
        "Nós precisamos *humanizar* esses números. Vamos 'tirar a média' de cada cluster.\n",
        "* Cluster 0: Média de Salário ALTA, média de Satisfação ALTA.\n",
        "* Cluster 1: Média de Salário BAIXA, média de Satisfação BAIXA.\n",
        "Agora sim! Podemos dar nomes a eles.\"\n",
        "\n",
        "🎓 **Definição Técnica:**\n",
        "A interpretação dos clusters (o passo mais crucial) é feita analisando os centroides de cada cluster. A forma mais fácil de fazer isso é usando `.groupby()` no DataFrame original (com os valores reais, *não* escalados) pela coluna 'Cluster' que criamos, e calculando a `.mean()` de cada feature.\n",
        "\n",
        "🍳 **Receita:**"
      ],
      "metadata": {
        "id": "1-f9Vg2V_SI3"
      }
    },
    {
      "cell_type": "code",
      "source": [
        "# Agrupar pela coluna 'Cluster' e calcular a média das features que usamos\n",
        "# (Incluímos 'pediu_demissao' para ver o risco de turnover de cada persona!)\n",
        "features_para_analise = features_para_cluster + ['pediu_demissao']\n",
        "\n",
        "# Usamos .drop() para remover colunas de texto que não podem ter média\n",
        "df_personas = df_original_com_clusters.drop(columns=['departamento']).groupby('Cluster').mean()\n",
        "\n",
        "# Adicionar o tamanho de cada cluster para contexto\n",
        "df_personas['Tamanho (N)'] = df_original_com_clusters['Cluster'].value_counts()\n",
        "\n",
        "print(\"--- Tabela de Personas (Médias por Cluster) ---\")\n",
        "# Formatando a tabela para melhor visualização\n",
        "print(df_personas.style.format({\n",
        "    'salario': 'R$ {:,.2f}',\n",
        "    'satisfacao': '{:.2%}',\n",
        "    'tempo_empresa': '{:.1f} anos',\n",
        "    'avaliacao_performance': '{:.2%}',\n",
        "    'pediu_demissao': '{:.2%}'\n",
        "}).background_gradient(cmap='viridis', subset=['salario', 'satisfacao', 'avaliacao_performance']).background_gradient(cmap='coolwarm', subset=['pediu_demissao']))"
      ],
      "metadata": {
        "id": "7mZNSQ5w_VO_"
      },
      "execution_count": null,
      "outputs": []
    },
    {
      "cell_type": "markdown",
      "source": [
        "📊 **Resultado (A Tabela de Personas):**\n",
        "\"Esta tabela é o resultado final do projeto. Agora podemos dar os nomes:\n",
        "* **Cluster 0 (Ex):** Salário ALTO, Satisfação ALTA, Tempo de Empresa ALTO, Turnover BAIXO. -> **Persona: 'Veteranos Engajados'**.\n",
        "* **Cluster 1 (Ex):** Salário BAIXO, Satisfação BAIXA, Tempo de Empresa BAIXO, Turnover ALTO. -> **Persona: 'Novatos em Risco'**.\n",
        "* **Cluster 2 (Ex):** Salário MÉDIO, Satisfação MÉDIA, Perf. ALTA, Turnover MÉDIO. -> **Persona: 'Talentos Estagnados'**.\n",
        "* ... e assim por diante.\""
      ],
      "metadata": {
        "id": "mHCVNr1D_Yq5"
      }
    },
    {
      "cell_type": "markdown",
      "source": [
        "## Conceito 6 (Bônus): Visualização dos Clusters (2D)\n",
        "\n",
        "🧠 **Intuição:**\n",
        "\"Uma imagem vale mais que mil palavras. Vamos 'desenhar' os clusters. Escolhemos as duas features mais importantes (ex: 'salario' e 'satisfacao') e plotamos um gráfico de dispersão (scatterplot), colorindo cada ponto com a cor do seu cluster. Isso ajuda o RH a *ver* as 'bolhas' de personas que acabamos de identificar.\"\n",
        "\n",
        "🎓 **Definição Técnica:**\n",
        "A visualização de clusters é uma etapa qualitativa de validação. Como nossos dados têm muitas dimensões (ex: 5 ou 6 features), não podemos visualizá-los diretamente.\n",
        "A técnica mais simples é plotar um gráfico de dispersão 2D usando as duas features mais interpretáveis (ou as mais importantes, segundo o `feature_importance_` de um modelo Random Forest).\n",
        "Usamos o `hue='Cluster'` (do Seaborn) para mapear a coluna de rótulo do cluster (0, 1, 2, 3) a um esquema de cores, permitindo-nos ver a separação (ou sobreposição) dos grupos.\n",
        "\n",
        "🍳 **Receita:**"
      ],
      "metadata": {
        "id": "3aE1HUDH_acv"
      }
    },
    {
      "cell_type": "code",
      "source": [
        "plt.figure(figsize=(10, 7))\n",
        "sns.scatterplot(\n",
        "    data=df_original_com_clusters,\n",
        "    x='salario',\n",
        "    y='satisfacao',\n",
        "    hue='Cluster', # A mágica acontece aqui\n",
        "    palette='viridis', # Esquema de cores\n",
        "    s=100, # Tamanho dos pontos\n",
        "    alpha=0.7 # Transparência\n",
        ")\n",
        "plt.title('Clusters de Funcionários (Personas)')\n",
        "plt.xlabel('Salário')\n",
        "plt.ylabel('Nível de Satisfação')\n",
        "plt.legend(title='Persona (Cluster)')\n",
        "plt.grid(linestyle='--', alpha=0.5)\n",
        "plt.show()"
      ],
      "metadata": {
        "id": "viiFJeb8_ghj"
      },
      "execution_count": null,
      "outputs": []
    },
    {
      "cell_type": "markdown",
      "source": [
        "📊 **Resultado:**\n",
        "\"O gráfico mostra visualmente as 'fronteiras' que o K-Means encontrou. Idealmente, veremos grupos de cores distintas (Ex: um 'bolsão' verde no canto inferior esquerdo, um 'bolsão' roxo no canto superior direito). Se as cores estiverem muito misturadas, isso reforça um Silhouette Score baixo e sugere que, pelo menos *nestas duas dimensões*, os grupos não são bem definidos.\""
      ],
      "metadata": {
        "id": "LJY0fLrK_yIV"
      }
    }
  ]
}