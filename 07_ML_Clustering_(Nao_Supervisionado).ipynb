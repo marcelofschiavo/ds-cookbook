{
  "nbformat": 4,
  "nbformat_minor": 0,
  "metadata": {
    "colab": {
      "provenance": [],
      "authorship_tag": "ABX9TyOYhsWpOTQcYwiB3DCLlIGB",
      "include_colab_link": true
    },
    "kernelspec": {
      "name": "python3",
      "display_name": "Python 3"
    },
    "language_info": {
      "name": "python"
    }
  },
  "cells": [
    {
      "cell_type": "markdown",
      "metadata": {
        "id": "view-in-github",
        "colab_type": "text"
      },
      "source": [
        "<a href=\"https://colab.research.google.com/github/marcelofschiavo/ds-cookbook/blob/main/07_ML_Clustering_(Nao_Supervisionado).ipynb\" target=\"_parent\"><img src=\"https://colab.research.google.com/assets/colab-badge.svg\" alt=\"Open In Colab\"/></a>"
      ]
    },
    {
      "cell_type": "code",
      "execution_count": null,
      "metadata": {
        "id": "FMozjtT-ede-"
      },
      "outputs": [],
      "source": [
        "Conceitos: Encontrar grupos ocultos (Personas).\n",
        "\n",
        "\"Receitas\" (Códigos):\n",
        "\n",
        "A etapa obrigatória: StandardScaler.\n",
        "\n",
        "Como achar o 'K' ideal: Método do Cotovelo (Elbow Method).\n",
        "\n",
        "O modelo: KMeans.\n",
        "\n",
        "Como visualizar: PCA para reduzir para 2D.\n",
        "\n",
        "Como interpretar: Agrupar por cluster e calcular a média (.groupby('cluster').mean())."
      ]
    }
  ]
}