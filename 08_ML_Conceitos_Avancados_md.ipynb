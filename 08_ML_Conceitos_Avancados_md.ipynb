{
  "nbformat": 4,
  "nbformat_minor": 0,
  "metadata": {
    "colab": {
      "provenance": [],
      "authorship_tag": "ABX9TyMmR8kLJ6Wf8rckaLrZeydm",
      "include_colab_link": true
    },
    "kernelspec": {
      "name": "python3",
      "display_name": "Python 3"
    },
    "language_info": {
      "name": "python"
    }
  },
  "cells": [
    {
      "cell_type": "markdown",
      "metadata": {
        "id": "view-in-github",
        "colab_type": "text"
      },
      "source": [
        "<a href=\"https://colab.research.google.com/github/marcelofschiavo/ds-cookbook/blob/main/08_ML_Conceitos_Avancados_md.ipynb\" target=\"_parent\"><img src=\"https://colab.research.google.com/assets/colab-badge.svg\" alt=\"Open In Colab\"/></a>"
      ]
    },
    {
      "cell_type": "code",
      "execution_count": null,
      "metadata": {
        "id": "kbL5YmG2eyyL"
      },
      "outputs": [],
      "source": [
        "Conceitos: Como fazer o ML funcionar bem (Teoria).\n",
        "\n",
        "\"Receitas\" (Explicações em Markdown):\n",
        "\n",
        "Engenharia de Features: O que é? (O exemplo salario_vs_media_depto).\n",
        "\n",
        "O Inimigo (Overfitting): O que é? (A analogia do \"aluno que decora\").\n",
        "\n",
        "A Solução (Validação Cruzada / Cross-Validation): O que é? (A analogia das \"5 provas\").\n",
        "\n",
        "A Otimização (Hyperparameter Tuning): O que é? (A analogia do \"rádio\")."
      ]
    }
  ]
}