{
  "nbformat": 4,
  "nbformat_minor": 0,
  "metadata": {
    "colab": {
      "provenance": [],
      "authorship_tag": "ABX9TyPxOFpXS3vDAoC1wNTN5rpC",
      "include_colab_link": true
    },
    "kernelspec": {
      "name": "python3",
      "display_name": "Python 3"
    },
    "language_info": {
      "name": "python"
    }
  },
  "cells": [
    {
      "cell_type": "markdown",
      "metadata": {
        "id": "view-in-github",
        "colab_type": "text"
      },
      "source": [
        "<a href=\"https://colab.research.google.com/github/marcelofschiavo/ds-cookbook/blob/main/02_Estatistica_Descritiva.ipynb\" target=\"_parent\"><img src=\"https://colab.research.google.com/assets/colab-badge.svg\" alt=\"Open In Colab\"/></a>"
      ]
    },
    {
      "cell_type": "markdown",
      "source": [
        "# 02. Estatística Descritiva (Resumindo os Dados)\n",
        "\n",
        "Após limpar os dados no Notebook 01, o próximo passo é *entendê-los*. A Estatística Descritiva nos ajuda a resumir milhares de linhas de dados em alguns poucos números-chave.\n",
        "\n",
        "Este notebook foca em duas perguntas:\n",
        "1.  **\"Qual é o valor 'típico'?\"** (Medidas de Tendência Central)\n",
        "2.  **\"Os dados são 'parecidos' ou 'espalhados'?\"** (Medidas de Dispersão)"
      ],
      "metadata": {
        "id": "18p7QPWuG7Q9"
      }
    },
    {
      "cell_type": "code",
      "execution_count": 1,
      "metadata": {
        "id": "BBAnDDbHdoAb",
        "colab": {
          "base_uri": "https://localhost:8080/"
        },
        "outputId": "c78d38c2-d1af-471f-bea3-5652212038c8"
      },
      "outputs": [
        {
          "output_type": "stream",
          "name": "stdout",
          "text": [
            "--- DataFrame de Salários (com Outlier) ---\n",
            "   departamento  salario  idade\n",
            "0        Vendas     4000     25\n",
            "1        Vendas     4500     28\n",
            "2        Vendas     5000     33\n",
            "3        Vendas     5200     31\n",
            "4        Vendas     4800     29\n",
            "5            TI     8000     40\n",
            "6            TI     8500     42\n",
            "7            TI     9000     38\n",
            "8            TI     7800     35\n",
            "9            TI     9200     45\n",
            "10           RH     6000     30\n",
            "11           RH     6100     31\n",
            "12    Diretoria   150000     55\n"
          ]
        }
      ],
      "source": [
        "import pandas as pd\n",
        "import numpy as np\n",
        "\n",
        "# Vamos criar um dataset fictício de salários para ilustrar\n",
        "# NOTE: Incluímos um \"outlier\" (150000) para mostrar a diferença entre média e mediana.\n",
        "data = {\n",
        "    'departamento': ['Vendas', 'Vendas', 'Vendas', 'Vendas', 'Vendas',\n",
        "                     'TI', 'TI', 'TI', 'TI', 'TI',\n",
        "                     'RH', 'RH',\n",
        "                     'Diretoria'],\n",
        "    'salario': [4000, 4500, 5000, 5200, 4800,   # Média Vendas: 4700\n",
        "                8000, 8500, 9000, 7800, 9200,   # Média TI: 8500\n",
        "                6000, 6100,                     # Média RH: 6050\n",
        "                150000],                        # O Outlier (CEO)\n",
        "    'idade': [25, 28, 33, 31, 29,\n",
        "              40, 42, 38, 35, 45,\n",
        "              30, 31,\n",
        "              55]\n",
        "}\n",
        "\n",
        "df_empresa = pd.DataFrame(data)\n",
        "\n",
        "print(\"--- DataFrame de Salários (com Outlier) ---\")\n",
        "print(df_empresa)"
      ]
    },
    {
      "cell_type": "markdown",
      "source": [
        "### Receita 2.1: Média (`.mean()`)\n",
        "\n",
        "* **🧠 Intuição:** \"Vamos juntar o salário de *todo mundo* (incluindo o CEO) e dividir em partes iguais. É o 'valor justo' se todos fossem tratados exatamente da mesma forma.\"\n",
        "* **🎓 Definição Técnica:** A Média Aritmética é uma medida de tendência central calculada pela soma de todos os valores (`Σx`) dividida pelo número total de observações (`n`). É a medida de centro mais comum, mas é altamente **sensível** a valores extremos (outliers).\n",
        "* **🍳 Receita:**"
      ],
      "metadata": {
        "id": "_9vJuA4YHWh1"
      }
    },
    {
      "cell_type": "code",
      "source": [
        "media_salarial = df_empresa['salario'].mean()\n",
        "print(f\"A Média salarial da empresa é: R$ {media_salarial:,.2f}\")"
      ],
      "metadata": {
        "colab": {
          "base_uri": "https://localhost:8080/"
        },
        "id": "YlgWLcwZHnQT",
        "outputId": "34fefcad-33c7-424c-a64e-745a624d90a9"
      },
      "execution_count": 2,
      "outputs": [
        {
          "output_type": "stream",
          "name": "stdout",
          "text": [
            "A Média salarial da empresa é: R$ 17,546.15\n"
          ]
        }
      ]
    },
    {
      "cell_type": "markdown",
      "source": [
        "* **📊 Resultado:** O resultado é um valor muito alto. Note como esse número é **enganoso**. Ninguém na empresa (exceto o CEO) ganha perto disso. A média foi \"puxada\" (inflada) pelo outlier de 150.000.\n",
        "* **Quando usar:** Use a Média quando sua distribuição for \"normal\" (simétrica, parecida com um sino) e você tiver certeza de que não há outliers extremos distorcendo o resultado."
      ],
      "metadata": {
        "id": "dZ-FoU3jHpsH"
      }
    },
    {
      "cell_type": "markdown",
      "source": [
        "### Receita 2.2: Mediana (`.median()`)\n",
        "\n",
        "* **🧠 Intuição:** \"Agora, vamos colocar todo mundo em fila por salário, do menor para o maior. A Mediana é o salário da pessoa que está *exatamente no meio* da fila. O salário do CEO (150.000) não importa; ele é apenas o 'último da fila' e não afeta quem está no meio.\"\n",
        "* **🎓 Definição Técnica:** A Mediana é o **Percentil 50** (P50). É o valor central que divide o conjunto de dados ordenado em duas metades iguais (50% dos dados estão abaixo, 50% estão acima). É uma medida de tendência central **robusta**, o que significa que não é afetada por outliers.\n",
        "* **🍳 Receita:**"
      ],
      "metadata": {
        "id": "exMNaLG6IT_k"
      }
    },
    {
      "cell_type": "code",
      "source": [
        "mediana_salarial = df_empresa['salario'].median()\n",
        "print(f\"A Mediana salarial da empresa é: R$ {mediana_salarial:,.2f}\")"
      ],
      "metadata": {
        "colab": {
          "base_uri": "https://localhost:8080/"
        },
        "id": "naFX-ZYSIY44",
        "outputId": "e9c53dae-3ef8-4ba9-9f82-0df0292278ce"
      },
      "execution_count": 3,
      "outputs": [
        {
          "output_type": "stream",
          "name": "stdout",
          "text": [
            "A Mediana salarial da empresa é: R$ 6,100.00\n"
          ]
        }
      ]
    },
    {
      "cell_type": "markdown",
      "source": [
        "* **📊 Resultado:** O resultado será `R$ 6.100,00`. Compare este valor com a Média (R$ 17.546). O valor de R$ 6.100 é muito mais *representativo* do salário \"típico\" de um funcionário desta empresa.\n",
        "* **Por que é melhor (Robustez):** Quando a Média e a Mediana estão muito distantes, isso é um sinal claro da presença de outliers. Para dados de salário, preço de casa, ou qualquer coisa com grande variação, a **Mediana** é quase sempre a melhor métrica para descrever o \"centro\".\n"
      ],
      "metadata": {
        "id": "GHpYAXltIlZo"
      }
    },
    {
      "cell_type": "markdown",
      "source": [
        "### Receita 2.3: Variância (`.var()`) e Desvio Padrão (`.std()`)\n",
        "\n",
        "* **🧠 Intuição:** \"Esses números medem a 'desigualdade' ou 'espalhamento' dos salários. Um Desvio Padrão *baixo* significaria que todos ganham salários parecidos. Um Desvio Padrão *alto* (como o nosso) significa que os salários estão muito espalhados (muito desiguais).\"\n",
        "* **🎓 Definição Técnica:** Medidas de dispersão que quantificam o espalhamento dos dados em relação à Média.\n",
        "    * **Variância (`.var()`):** É a média das distâncias ao quadrado de cada ponto até a média. O resultado é em unidades ao quadrado (ex: R$²), o que é matematicamente útil, mas difícil de interpretar.\n",
        "    * **Desvio Padrão (`.std()`):** É a **raiz quadrada da Variância**. Sua grande vantagem é que ele retorna à unidade original (ex: R$), tornando-o diretamente interpretável. Ele representa a \"distância média\" esperada de qualquer ponto de dado até a Média.\n",
        "* **🍳 Receita:**"
      ],
      "metadata": {
        "id": "mI3vHfEBIzr_"
      }
    },
    {
      "cell_type": "code",
      "source": [
        "variancia_salarial = df_empresa['salario'].var()\n",
        "desvio_padrao_salarial = df_empresa['salario'].std()\n",
        "\n",
        "print(f\"Variância (difícil de interpretar): R$² {variancia_salarial:,.2f}\")\n",
        "print(f\"Desvio Padrão (interpretável): R$ {desvio_padrao_salarial:,.2f}\")"
      ],
      "metadata": {
        "colab": {
          "base_uri": "https://localhost:8080/"
        },
        "id": "D1Far9PeI1il",
        "outputId": "80a359ee-df14-4bd4-fbdf-05d097278334"
      },
      "execution_count": 4,
      "outputs": [
        {
          "output_type": "stream",
          "name": "stdout",
          "text": [
            "Variância (difícil de interpretar): R$² 1,587,082,692.31\n",
            "Desvio Padrão (interpretável): R$ 39,838.21\n"
          ]
        }
      ]
    },
    {
      "cell_type": "markdown",
      "source": [
        "* **📊 Resultado:** A Variância será um número gigante. O Desvio Padrão será a raiz disso, que é absurdamente alto, confirmando que os salários *não* estão concentrados em torno da média; eles estão, na verdade, muito espalhados (por causa do outlier)."
      ],
      "metadata": {
        "id": "u8bpfL2cI3IS"
      }
    },
    {
      "cell_type": "markdown",
      "source": [
        "### Receita 2.4: Quartis/Percentis (`.quantile()`)\n",
        "\n",
        "* **🧠 Intuição:** \"Vamos dividir a 'fila de salários' em 4 partes iguais. `.quantile(0.25)` (ou Q1) nos diz o salário da pessoa que está em 25% da fila (25% ganham menos que ela). `.quantile(0.75)` (ou Q3) é o marco dos 75%. O espaço entre Q1 e Q3 é o 'miolo' da empresa.\"\n",
        "* **🎓 Definição Técnica:** Quantis são pontos de corte que dividem uma distribuição em N partes de tamanho igual.\n",
        "    * **Percentis:** Dividem em 100 partes (ex: `.quantile(0.90)` é o Percentil 90).\n",
        "    * **Quartis:** Dividem em 4 partes: Q1 (`.quantile(0.25)`), Q2 (`.quantile(0.50)` - Mediana), Q3 (`.quantile(0.75)`).\n",
        "    * O **Intervalo Interquartil (IQR)** (`Q3 - Q1`) é a faixa de preço dos 50% centrais dos dados, e é a medida de dispersão mais robusta (não é afetada por outliers).\n",
        "* **🍳 Receita:**"
      ],
      "metadata": {
        "id": "qb45ugmKKtUm"
      }
    },
    {
      "cell_type": "code",
      "source": [
        "Q1 = df_empresa['salario'].quantile(0.25)\n",
        "Q2_mediana = df_empresa['salario'].quantile(0.50) # Igual ao .median()\n",
        "Q3 = df_empresa['salario'].quantile(0.75)\n",
        "P90 = df_empresa['salario'].quantile(0.90) # Percentil 90\n",
        "\n",
        "print(f\"Q1 (25% ganham menos que): R$ {Q1:,.2f}\")\n",
        "print(f\"Q2 (50% ganham menos que - Mediana): R$ {Q2_mediana:,.2f}\")\n",
        "print(f\"Q3 (75% ganham menos que): R$ {Q3:,.2f}\")\n",
        "print(f\"P90 (90% ganham menos que): R$ {P90:,.2f}\")\n",
        "\n",
        "IQR = Q3 - Q1\n",
        "print(f\"\\nIntervalo Interquartil (IQR): R$ {IQR:,.2f}\")\n",
        "print(f\"O 'miolo' (50% central) da empresa ganha entre R$ {Q1:,.2f} e R$ {Q3:,.2f}\")"
      ],
      "metadata": {
        "colab": {
          "base_uri": "https://localhost:8080/"
        },
        "id": "rK22-CllKvO6",
        "outputId": "3fd0d4fe-3329-4356-e123-96c6feed5bc0"
      },
      "execution_count": 5,
      "outputs": [
        {
          "output_type": "stream",
          "name": "stdout",
          "text": [
            "Q1 (25% ganham menos que): R$ 5,000.00\n",
            "Q2 (50% ganham menos que - Mediana): R$ 6,100.00\n",
            "Q3 (75% ganham menos que): R$ 8,500.00\n",
            "P90 (90% ganham menos que): R$ 9,160.00\n",
            "\n",
            "Intervalo Interquartil (IQR): R$ 3,500.00\n",
            "O 'miolo' (50% central) da empresa ganha entre R$ 5,000.00 e R$ 8,500.00\n"
          ]
        }
      ]
    },
    {
      "cell_type": "markdown",
      "source": [
        "* **📊 Resultado (Explicado):** O P90 (Percentil 90) é um valor alto, mostrando que o outlier distorce até os percentis mais altos. Os quartis Q1 e Q3 dão uma visão muito mais realista da faixa salarial da \"maioria\" dos funcionários. O IQR mostra que a metade central dos funcionários tem uma variação salarial relativamente contida."
      ],
      "metadata": {
        "id": "s_zxJg1aLT9r"
      }
    },
    {
      "cell_type": "markdown",
      "source": [
        "### Receita 2.5: O Sumário Completo (`.describe()`)\n",
        "\n",
        "* **🧠 Intuição:** \"É a 'super-função' que aperta um botão e nos dá *quase todas* essas estatísticas (Média, Mediana/50%, Quartis/25%/75%, Desvio Padrão, Contagem, Min, Max) de uma só vez, tanto para números quanto para texto!\"\n",
        "* **🎓 Definição Técnica:** O método `.describe()` do Pandas retorna um DataFrame contendo estatísticas descritivas univariadas. Por padrão, ele analisa colunas numéricas (`int`, `float`), mas o argumento `include` pode ser usado para analisar outros tipos (`'object'` para strings, `'all'` para todos os tipos). Para dados numéricos, calcula: contagem (`count`), média (`mean`), desvio padrão (`std`), mínimo (`min`), máximo (`max`) e os quartis (25%, 50%, 75%). Para dados categóricos/texto, calcula: contagem (`count`), número de valores únicos (`unique`), o valor mais frequente (`top`) e a frequência desse valor (`freq`).\n",
        "* **🍳 Receita:**"
      ],
      "metadata": {
        "id": "XqsB1k6qMBJc"
      }
    },
    {
      "cell_type": "code",
      "source": [
        "# Opção 1: Resumo apenas da coluna 'salario'\n",
        "sumario_salario = df_empresa['salario'].describe()\n",
        "print(\"--- Resumo Completo (apenas Salário) ---\")\n",
        "print(sumario_salario)\n",
        "\n",
        "# Opção 2 (Mais Comum): Resumo de TODAS as colunas numéricas\n",
        "sumario_completo_numerico = df_empresa.describe()\n",
        "print(\"\\n--- Resumo Completo (Colunas Numéricas) ---\")\n",
        "print(sumario_completo_numerico)\n",
        "\n",
        "# Opção 3 (Bônus): Resumo de colunas de TEXTO (Categóricas)\n",
        "# 'object' é o tipo de dado do Pandas para strings\n",
        "sumario_texto = df_empresa.describe(include=['object'])\n",
        "print(\"\\n--- Resumo Completo (Colunas de Texto) ---\")\n",
        "print(sumario_texto)"
      ],
      "metadata": {
        "colab": {
          "base_uri": "https://localhost:8080/"
        },
        "id": "5N39LqXQL_nJ",
        "outputId": "3e6d6138-517d-442e-cef5-df81315ab783"
      },
      "execution_count": 6,
      "outputs": [
        {
          "output_type": "stream",
          "name": "stdout",
          "text": [
            "--- Resumo Completo (apenas Salário) ---\n",
            "count        13.000000\n",
            "mean      17546.153846\n",
            "std       39838.206439\n",
            "min        4000.000000\n",
            "25%        5000.000000\n",
            "50%        6100.000000\n",
            "75%        8500.000000\n",
            "max      150000.000000\n",
            "Name: salario, dtype: float64\n",
            "\n",
            "--- Resumo Completo (Colunas Numéricas) ---\n",
            "             salario      idade\n",
            "count      13.000000  13.000000\n",
            "mean    17546.153846  35.538462\n",
            "std     39838.206439   8.292722\n",
            "min      4000.000000  25.000000\n",
            "25%      5000.000000  30.000000\n",
            "50%      6100.000000  33.000000\n",
            "75%      8500.000000  40.000000\n",
            "max    150000.000000  55.000000\n",
            "\n",
            "--- Resumo Completo (Colunas de Texto) ---\n",
            "       departamento\n",
            "count            13\n",
            "unique            4\n",
            "top          Vendas\n",
            "freq              5\n"
          ]
        }
      ]
    },
    {
      "cell_type": "markdown",
      "source": [
        "* **📊 Resultado:**\n",
        "    * O primeiro resultado mostra o resumo completo do `salario`. Você pode ver imediatamente a **Média (`17546.15`)** e a **Mediana (`50%` = `6100.00`)** e saber que seus dados estão distorcidos (assimétricos devido ao outlier). O `std` (Desvio Padrão) altíssimo (`42555.69`) confirma isso.\n",
        "    * O segundo resultado faz o mesmo para `salario` e `idade` lado a lado, permitindo comparar rapidamente suas distribuições.\n",
        "    * O terceiro resultado (`include=['object']`) é muito útil: ele mostra, para a coluna `departamento`, que há 13 entradas (`count`), 4 valores únicos (`unique` = Vendas, TI, RH, Diretoria), o valor mais comum é 'Vendas' (`top`) e ele aparece 5 vezes (`freq`)."
      ],
      "metadata": {
        "id": "BAtHCA0CMEpM"
      }
    }
  ]
}