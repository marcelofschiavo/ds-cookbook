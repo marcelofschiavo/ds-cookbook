{
  "nbformat": 4,
  "nbformat_minor": 0,
  "metadata": {
    "colab": {
      "provenance": [],
      "authorship_tag": "ABX9TyPG/m9Jq0B0ZKYhx3JxMXe9",
      "include_colab_link": true
    },
    "kernelspec": {
      "name": "python3",
      "display_name": "Python 3"
    },
    "language_info": {
      "name": "python"
    }
  },
  "cells": [
    {
      "cell_type": "markdown",
      "metadata": {
        "id": "view-in-github",
        "colab_type": "text"
      },
      "source": [
        "<a href=\"https://colab.research.google.com/github/marcelofschiavo/ds-cookbook/blob/main/02_Estatistica_Descritiva.ipynb\" target=\"_parent\"><img src=\"https://colab.research.google.com/assets/colab-badge.svg\" alt=\"Open In Colab\"/></a>"
      ]
    },
    {
      "cell_type": "code",
      "execution_count": null,
      "metadata": {
        "id": "BBAnDDbHdoAb"
      },
      "outputs": [],
      "source": [
        "Conceitos: Estatística Descritiva.\n",
        "\n",
        "\"Receitas\" (Códigos):\n",
        "\n",
        "Como calcular a Média (.mean()) e quando usá-la.\n",
        "\n",
        "Como calcular a Mediana (.median()) e por que ela é melhor que a média (robustez a outliers).\n",
        "\n",
        "Como calcular Desvio Padrão e Variância (.std(), .var()) e o que eles significam (dispersão).\n",
        "\n",
        "Como ver os Quartis/Percentis (.quantile()).\n",
        "\n",
        "Como ver tudo de uma vez (.describe())."
      ]
    }
  ]
}